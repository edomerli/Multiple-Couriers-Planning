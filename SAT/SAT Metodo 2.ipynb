{
 "cells": [
  {
   "cell_type": "code",
   "execution_count": 1,
   "metadata": {},
   "outputs": [],
   "source": [
    "from z3 import *\n",
    "import math"
   ]
  },
  {
   "attachments": {},
   "cell_type": "markdown",
   "metadata": {},
   "source": [
    "## Utils"
   ]
  },
  {
   "cell_type": "code",
   "execution_count": 2,
   "metadata": {},
   "outputs": [],
   "source": [
    "#TODO: sposta gli utils tutti qua su\n",
    "def flatten(matrix):\n",
    "    return [e for row in matrix for e in row]"
   ]
  },
  {
   "attachments": {},
   "cell_type": "markdown",
   "metadata": {},
   "source": [
    "## Encodings"
   ]
  },
  {
   "attachments": {},
   "cell_type": "markdown",
   "metadata": {},
   "source": [
    "#### At most/least one & exactly one"
   ]
  },
  {
   "cell_type": "code",
   "execution_count": 3,
   "metadata": {},
   "outputs": [],
   "source": [
    "def at_least_one_seq(bool_vars):\n",
    "    return Or(bool_vars)\n",
    "\n",
    "def at_most_one_seq(x, name):\n",
    "    # bool_vars renamed to x for simplicity\n",
    "    n = len(x)\n",
    "    if n == 1:\n",
    "        return True\n",
    "    s = [Bool(f\"s_{i}_{name}\") for i in range(n-1)]     # \"name\" is used in order to create a\n",
    "                                                        # unique set of variables s for each constraint\n",
    "                                                        # of the kind at_most_one_seq, so that they do not overlap \n",
    "                                                        # for different constraints!\n",
    "                                                        # N.B. len(s) = n-1 != n = len (x)\n",
    "    clauses = []\n",
    "    clauses.append(Or(Not(x[0]), s[0]))                 # x[0] -> s[0] (s[i] modeled as: s[i] is true if the SUM UP TO index i IS 1!) i.e. x_1 -> s_1 in math notation\n",
    "    for i in range(1, n-1):\n",
    "        clauses.append(Or(Not(x[i]), s[i]))             # these two clauses model (x[i] v s[i-1]) -> s[i]\n",
    "        clauses.append(Or(Not(s[i-1]), s[i]))\n",
    "        clauses.append(Or(Not(s[i-1]), Not(x[i])))      # this one models s[i-1] -> not x[i]\n",
    "    clauses.append(Or(Not(s[-1]), Not(x[-1])))          # s[n-2] -> not x[n-1]  i.e. s_(n-1) -> s_n in the mathematical notation (1-based)\n",
    "    return And(clauses)\n",
    "\n",
    "def exactly_one_seq(bool_vars, name):\n",
    "    return And(at_least_one_seq(bool_vars), at_most_one_seq(bool_vars, name))"
   ]
  },
  {
   "attachments": {},
   "cell_type": "markdown",
   "metadata": {},
   "source": [
    "#### Conversion from int to bin"
   ]
  },
  {
   "cell_type": "code",
   "execution_count": 4,
   "metadata": {},
   "outputs": [],
   "source": [
    "def num_bits(x):\n",
    "    return math.floor(math.log2(x))+1\n",
    "\n",
    "def find_max_digits(s, l): # TODO Idea: optimize number of digits depending on cases\n",
    "    return num_bits(max(sum(s), max(l)))"
   ]
  },
  {
   "cell_type": "code",
   "execution_count": 5,
   "metadata": {},
   "outputs": [],
   "source": [
    "def int_to_bin(x, digits):  # TODO read: #https://ericpony.github.io/z3py-tutorial/guide-examples.htm\n",
    "    x_bin = [(x%(2**(i+1)) // 2**i)==1 for i in range(digits-1,-1,-1)]\n",
    "    return x_bin\n",
    "\n",
    "def bin_to_int(x):\n",
    "    n = len(x)\n",
    "    x = sum(2**(n-i-1) for i in range(n) if x[i] == 1)\n",
    "    return x"
   ]
  },
  {
   "attachments": {},
   "cell_type": "markdown",
   "metadata": {},
   "source": [
    "#### Operations on binary numbers"
   ]
  },
  {
   "cell_type": "code",
   "execution_count": 6,
   "metadata": {},
   "outputs": [],
   "source": [
    "def equal(v, u, digits):\n",
    "    return And([v[k]==u[k] for k in range(digits)])\n",
    "\n",
    "def all_false(v):\n",
    "    return And([Not(v[k]) for k in range(len(v))])\n",
    "\n",
    "def leq(v, u, digits):\n",
    "    \"\"\"Encoding of v <= u\n",
    "\n",
    "    Args:\n",
    "        v (list[bool]): binary representation of v\n",
    "        u (list[bool]): binary representation of u\n",
    "        digits (int): number of digits of v and u\n",
    "\n",
    "    Returns:\n",
    "        Z3 formula: encoding of v <= u in binary considering their {digits} most significant bits\n",
    "    \"\"\"\n",
    "    assert(len(v) == len(u) and len(u) == digits)\n",
    "    if digits == 1:\n",
    "        return Or(v[0]==u[0], And(Not(v[0]), u[0]))\n",
    "    else:\n",
    "        return Or(And(Not(v[0]), u[0]), \n",
    "                  And(v[0]==u[0], leq(v[1:], u[1:], digits-1)))\n"
   ]
  },
  {
   "cell_type": "code",
   "execution_count": 7,
   "metadata": {},
   "outputs": [],
   "source": [
    "def sum_bin(a_bin, b_bin, d_bin, digits, name):\n",
    "    \"\"\"Encodes into a SAT formula the binary sum {a_bin + b_bin = d_bin}, each number having {digits} num of bits\n",
    "\n",
    "    Args:\n",
    "        a_bin (list[bool]): binary representation of a\n",
    "        b_bin (list[bool]): binary representation of b\n",
    "        d_bin (list[bool]): binary representation of d\n",
    "        digits (int): number of bits of each number \n",
    "        name (str): string to identify carry boolean variables\n",
    "\n",
    "    Returns:\n",
    "        (Z3-expression): formula representing SAT encoding of binary sum\n",
    "    \"\"\"\n",
    "\n",
    "    #slide SAT-I\n",
    "    c = [Bool(f\"c_{k}_{name}\") for k in range(digits+1)]\n",
    "    c[0] = False\n",
    "    c[-1] = False\n",
    "\n",
    "    clauses = []\n",
    "    for k in range(digits-1,-1,-1):\n",
    "        # clauses.append((a_bin[k] == b_bin[k]) == (c[k+1] == d_bin[k]))    #TODO: check if it is faster\n",
    "        clauses.append(d_bin[k] == Or(And(a_bin[k], b_bin[k], c[k+1]), And(a_bin[k], Not(b_bin[k]), Not(c[k+1])),\n",
    "                                   And(Not(a_bin[k]), b_bin[k], Not(c[k+1])), And(Not(a_bin[k]), Not(b_bin[k]), c[k+1])))\n",
    "        clauses.append(c[k] == Or(And(a_bin[k],b_bin[k]), And(a_bin[k],c[k+1]), And(b_bin[k],c[k+1])))\n",
    "\n",
    "    return And(clauses)\n",
    "\n",
    "\n",
    "def conditional_sum_K_bin(x, alpha, delta, name):\n",
    "    \"\"\"Encodes into a SAT formula the constraint {delta = sum_over_j(alpha[j] | x[j] == True)}\n",
    "\n",
    "    Args: \n",
    "        x (list[Bool]): list of Z3 Variables, i.e. x_j tells wether or not to add alpha_j to the sum\n",
    "        alpha (list[list[bool]]): list of known coefficients, each one represented as list[bool] i.e. binary number, whose subset will be summed in the constraint\n",
    "        delta (list[Bool]): list of Z3 Variables, which will be constrained to represent the sum\n",
    "        name (string): to uniquely identify the created variables\n",
    "    Returns:\n",
    "        formula (Z3-expression): And of clauses representing SAT encoding of Linear Integer constraint\n",
    "    \n",
    "    \"\"\"\n",
    "    n = len(x)\n",
    "    digits = len(delta)\n",
    "\n",
    "    # matrix containing temporary results of sum_bin\n",
    "    d = [[Bool(f\"d_{j}_{k}_{name}\") for k in range(digits)] for j in range(n-1)]    # j = 1..n-1 because last row will be delta\n",
    "    d.append(delta)\n",
    "\n",
    "    clauses = []\n",
    "\n",
    "    # row 0\n",
    "    clauses.append( And(Implies(x[0], equal(d[0], alpha[0], digits)),              # If x[0] == 1 then d_0 == alpha_0\n",
    "                        Implies(Not(x[0]), all_false(d[0]))))              # elif x[0] == 0 then d_0 == [0..0]\n",
    "\n",
    "    # row j>1\n",
    "    for j in range(1,n):\n",
    "        clauses.append( And(Implies(x[j], sum_bin(d[j-1], alpha[j], d[j], digits, f\"{name}_{j-1}_{j}\")),           # If c_j == 1 then d_j == d_j-1 + alpha_j \n",
    "                            Implies(Not(x[j]), equal(d[j], d[j-1], digits))))\n",
    "        \n",
    "    return And(clauses)"
   ]
  },
  {
   "attachments": {},
   "cell_type": "markdown",
   "metadata": {},
   "source": [
    "#### Linear Integer constraint over binary numbers"
   ]
  },
  {
   "cell_type": "code",
   "execution_count": 8,
   "metadata": {},
   "outputs": [],
   "source": [
    "def LinearInteger_bin(x, alpha, beta, name):\n",
    "    \"\"\"Encodes into a SAT formula the linear constraint {sum_over_j(alpha[j] | x[j] == True) <= beta}\n",
    "\n",
    "    Args: \n",
    "        x (list[Bool]): list of Z3 Variables, i.e. x_j tells wether or not to add alpha_j to the sum\n",
    "        alpha (list[list[bool]]): list of known coefficients, each one represented as list[bool] i.e. binary number, whose subset will be summed in the constraint\n",
    "        beta (list[bool]): binary representing the known term, i.e. the upper bound for the sum\n",
    "        name (string): to uniquely identify the created variables\n",
    "    Returns:\n",
    "        formula (Z3-expression): And of clauses representing SAT encoding of Linear Integer constraint\n",
    "    \"\"\"\n",
    "    n = len(x)\n",
    "    digits = len(beta)\n",
    "\n",
    "    clauses = []\n",
    "\n",
    "    sum_result = [Bool(f\"LIsum_result_{k}_{name}\") for k in range(digits)]\n",
    "    clauses.append(conditional_sum_K_bin(x, alpha, sum_result, name))\n",
    "\n",
    "    # TODO: aggiungere a clause che d_n <= beta\n",
    "    # I suppose to enter beta as integer (is it the best idea to optimize the program?)\n",
    "    clauses.append(leq(sum_result, beta, digits)) \n",
    "    # TODO: does it make any sense to check d_j <= beta forall j or better to just do it for d_n?\n",
    "    # TODO: have to check for overflows in num. digits?\n",
    "\n",
    "    formula = And(clauses)\n",
    "    return formula\n",
    "\n"
   ]
  },
  {
   "attachments": {},
   "cell_type": "markdown",
   "metadata": {},
   "source": [
    "#### Functions to display solution"
   ]
  },
  {
   "cell_type": "code",
   "execution_count": 9,
   "metadata": {},
   "outputs": [],
   "source": [
    "def interest_variables(model, a):\n",
    "    return [[j for j in range(len(a[0])) if model.evaluate(a[i][j])] for i in range(len(a))]\n",
    "\n",
    "def displayMCP(result):\n",
    "    # TODO: fai piu bello per UNSAT\n",
    "    if type(result) == str and result==\"UNSAT\":\n",
    "        print(result)\n",
    "    else:\n",
    "        routes = result[0]\n",
    "        obj_value = result[1]"
   ]
  },
  {
   "attachments": {},
   "cell_type": "markdown",
   "metadata": {},
   "source": [
    "#### Functions to display matrices of tensor and dist"
   ]
  },
  {
   "cell_type": "code",
   "execution_count": 10,
   "metadata": {},
   "outputs": [],
   "source": [
    "def tensor(model, bools):\n",
    "    m = len(bools)\n",
    "    n = len(bools[0])\n",
    "    return [[[model.evaluate(bools[i][j][k]) for k in range(n)] for j in range(n)] for i in range(m)]\n",
    "\n",
    "def display_matrices(tensor, name):\n",
    "    m = len(tensor)\n",
    "    n = len(tensor[0])\n",
    "    for i in range(m):\n",
    "        print(f'{name}_{i} matrix:')\n",
    "        for j in range(n):\n",
    "            print(tensor[i][j])\n",
    "        print()"
   ]
  },
  {
   "attachments": {},
   "cell_type": "markdown",
   "metadata": {},
   "source": [
    "## Assumptions"
   ]
  },
  {
   "attachments": {},
   "cell_type": "markdown",
   "metadata": {},
   "source": [
    "Assumpions that we can make:\n",
    "1. $n >= m$\n",
    "2. The distance matrix $D$ is quasimetric (more info [here](https://proofwiki.org/wiki/Definition:Quasimetric)) => Giving an item to courier who has none is always \"same or better\" than giving 2 to another courier and none to this one\n",
    "\n",
    "(Note: 1. + 2. => can add implicit constraint \"Every courier has at least one item assigned to it\")"
   ]
  },
  {
   "attachments": {},
   "cell_type": "markdown",
   "metadata": {},
   "source": [
    "## Model 2"
   ]
  },
  {
   "attachments": {},
   "cell_type": "markdown",
   "metadata": {},
   "source": [
    "#### Objective function and Distance function"
   ]
  },
  {
   "cell_type": "code",
   "execution_count": 11,
   "metadata": {},
   "outputs": [],
   "source": [
    "def distance_traveled(flat_r_i, flat_D_bin, a_i, distances_i, name):\n",
    "    \"\"\"Encodes into a SAT formula the constraint {delta = sum_over_j(alpha[j] | x[j] == True)}\n",
    "\n",
    "    Args: \n",
    "        x (list[Bool]): list of Z3 Variables, i.e. x_j tells wether or not to add alpha_j to the sum\n",
    "        alpha (list[list[bool]]): list of known coefficients, each one represented as list[bool] i.e. binary number, whose subset will be summed in the constraint\n",
    "        delta (list[Bool]): list of Z3 Variables, which will be constrained to represent the sum\n",
    "        name (string): to uniquely identify the created variables\n",
    "    Returns:\n",
    "        formula (Z3-expression): And of clauses representing SAT encoding of Linear Integer constraint\n",
    "    \n",
    "    \"\"\"\n",
    "    n = len(flat_r_i)\n",
    "    digits = len(flat_D_bin[0][0])\n",
    "\n",
    "    clause = []\n",
    "\n",
    "    # matrix containing temporary results of sum_bin\n",
    "    d = [[Bool(f\"d_{j}_{k}_{name}\") for k in range(digits)] for j in range(n)]\n",
    "\n",
    "    # first point\n",
    "    for k in range(n):\n",
    "        clause.append( And([Implies(And(a_i[k], flat_r_i[j][k], all_false([flat_r_i[q][x] for q in range(n) for x in range(0, k)])),\n",
    "                                 equal(d[k], flat_D_bin[n][j], digits))\n",
    "                            for j in range(n) ]))\n",
    "\n",
    "    # middle points\n",
    "    # condizioni della somma: flat_r_i[j][k]=1  flat_r_i[h][p]=1 and all_false(colonne tra k e p)\n",
    "    # sommo la distanza percorsa fino all'elemento j (della colonna k) + la distanza percorsa tra l'elemento j e p (elemento p della colonna h)\n",
    "    for k in range(n-1): #k<h\n",
    "        clause.append( And([Implies(And( a_i[k], a_i[h], flat_r_i[j][k], flat_r_i[p][h], Or(k+1==h, all_false([flat_r_i[q][x] for q in range(n) for x in range(k+1,h)])) ),\n",
    "                                    sum_bin(d[k], flat_D_bin[j][p], d[h], digits,  f\"{name}_{k}_{h}\")) \n",
    "                            for j in range(n) for p in range(n) for h in range(k+1,n) ]))\n",
    "\n",
    "    # last point\n",
    "    for k in range(n):\n",
    "        clause.append( And([Implies(And(a_i[k], flat_r_i[j][k], all_false([flat_r_i[q][x] for q in range(n) for x in range(k+1, n)])),\n",
    "                                    sum_bin(d[k], flat_D_bin[j][n], distances_i, digits, f\"{name}_last_{k}\")) \n",
    "                            for j in range(n) ]))\n",
    "\n",
    "    return And(clause)\n",
    "\n",
    "def distances_def_constraint_2(distances, r, D_bin, a):\n",
    "    \"\"\"Defines the set of binary numbers {distances} as the sum of the binary numbers in {flat_D_bin} whose respective element in {flat_r} is True\n",
    "        i.e. distances[i] = sum_over_j(flat_D_bin[j] | (flat_r[i])[j] == True)  forall i\n",
    "\n",
    "    Args:\n",
    "        distances (list[list[Bool]]): distances[i] will be constrained to be the sum of flat_D_bin[j] with respective flat_r[i][j] == True\n",
    "        flat_r (list[list[Bool]]]): list of flattened matrices of Z3 Bool variables, each matrix flat_r[i] originally (i.e. before flattening) describing the route of courier i\n",
    "        flat_D_bin (list[list[bool]]): flattened matrix of distances D, with each element converted to a binary as a list[bool]\n",
    "    \n",
    "    Returns:\n",
    "        (Z3 formula): encoding of the definition of distances\n",
    "    \"\"\"\n",
    "    m = len(distances)\n",
    "\n",
    "    clauses = []\n",
    "\n",
    "    for i in range(m):\n",
    "        clauses.append(distance_traveled(r[i], D_bin, a[i], distances[i], f\"distances_def_{i}\"))\n",
    "\n",
    "    return And(clauses)\n",
    "\n",
    "def obj_function(model, distances):\n",
    "    m = len(distances)\n",
    "    k = len(distances[0])\n",
    "    maxdist = -1\n",
    "    for i in range(m):\n",
    "        dist = bin_to_int([1 if model.evaluate(distances[i][j]) else 0 for j in range(k)])\n",
    "        maxdist = max(maxdist, dist)\n",
    "    return maxdist\n",
    "\n",
    "def AllLessEq_bin(distances, obj_value_bin, digits):\n",
    "    m = len(distances)\n",
    "\n",
    "    clauses = []\n",
    "\n",
    "    for i in range(m):\n",
    "        clauses.append(leq(distances[i], obj_value_bin, digits))\n",
    "\n",
    "    return And(clauses)\n"
   ]
  },
  {
   "cell_type": "code",
   "execution_count": 12,
   "metadata": {},
   "outputs": [],
   "source": [
    "# TODO: add (and copy-implement) timeout decorator\n",
    "def multiple_couriers_planning_2(m, n, l, s, D):\n",
    "    \"\"\"Model 2 in Z3 for the Multiple Couriers Planning problem\n",
    "\n",
    "    Args:\n",
    "        m (int): number of couriers\n",
    "        n (int): number of items to deliver\n",
    "        l (list[int]): l[i] represents the maximum load of courier i, for i = 1..m\n",
    "        s (list[int]): s[j] represents the size of item j, for j = 1..n\n",
    "        D (list[list[int]]): (n+1)x(n+1) matrix, with D[i][j] representing the distance from\n",
    "                             distribution point i to distribution point j\n",
    "                    \n",
    "    \"\"\"\n",
    "    ## VARIABLES\n",
    "\n",
    "    # a for assignments\n",
    "    a = [[Bool(f\"a_{i}_{j}\") for j in range(n)] for i in range(m)]\n",
    "    # a_ij = 1 indicates that courier i takes object j\n",
    "    # O(m * n) vars\n",
    "\n",
    "    # r for routes\n",
    "    r = [[[Bool(f\"r_{j}_{k}_{i}\") for k in range(n)] for j in range(n)] for i in range(m)]  \n",
    "    # r_ijk = 1 indicates that courier i deliver to point j as the k-th element in his route\n",
    "    # n+1 delivery points because considering Origin point as well, representes as n+1-th row and column, for each courier i\n",
    "    # O(m * n^2) vars\n",
    "\n",
    "    solver = Solver()\n",
    "\n",
    "    ## CONSTRAINTS\n",
    "    # Conversions:\n",
    "    digits = find_max_digits(s, l)\n",
    "    s_bin = [int_to_bin(s_j, digits) for s_j in s]\n",
    "    l_bin = [int_to_bin(l_i, digits) for l_i in l]\n",
    "\n",
    "\n",
    "    # Constraint 1: every object is assigned to one and only one courier\n",
    "    for j in range(n):\n",
    "        solver.add(exactly_one_seq([a[i][j] for i in range(m)], f\"assignment_{j}\"))\n",
    "    \n",
    "    # Constraint 2: every courier can't exceed its load capacity\n",
    "    for i in range(m):\n",
    "        solver.add(LinearInteger_bin(a[i], s_bin, l_bin[i], f\"load_capacity_courier_{i}\"))\n",
    "\n",
    "    # Constraint 3: every courier has at least 1 item to deliver (implicit constraint, because n >= m and distance is quasimetric (from discussion forum))\n",
    "    # TODO: check if it actually speeds up execution\n",
    "    for i in range(m):\n",
    "        solver.add(at_least_one_seq(a[i]))\n",
    "\n",
    "    #TODO: better to use \"clauses\" list than doing so many solver.add below? Or call entirely a function maybe\n",
    "\n",
    "    # Constraint 4: routes\n",
    "    for i in range(m):\n",
    "        # Constraint 4.2: row j has a 1 iff courier i delivers object j\n",
    "        # rows\n",
    "        for j in range(n):\n",
    "            solver.add(Implies(a[i][j], exactly_one_seq(r[i][j], f\"courier_{i}_deliver_{j}\")))  # If a_ij then exactly_one(r_ij)\n",
    "            solver.add(Implies(Not(a[i][j]), all_false(r[i][j])))   # else all_false(r_ij)\n",
    "\n",
    "        # Constraint 4.3: column k has a 1 iff courier i delivers object k\n",
    "        # columns\n",
    "        for k in range(n):\n",
    "            solver.add(Implies(a[i][k], exactly_one_seq([r[i][j][k] for j in range(n)], f\"courier_{i}_reaches_{k}\")))  # If a_ij then exactly_one(r_i,:,k)\n",
    "            solver.add(Implies(Not(a[i][k]), all_false([r[i][j][k] for j in range(n)])))   # else all_false(r_i,:,k) \n",
    "            # TODO imply false just for the one that weren't alredy counted in the rows (Edo: \"Cos?\")\n",
    "\n",
    "\n",
    "    # Optimization search\n",
    "\n",
    "    # TODO 1: move down\n",
    "    distance_upper_bound = sum([max(D[i]) for i in range(n+1)])     # TODO: maybe we can find a tighter upper bound on obj func\n",
    "    dist_digits = num_bits(distance_upper_bound) \n",
    "\n",
    "    D_bin = [[int_to_bin(e, dist_digits) for e in D[j]] for j in range(n+1)]\n",
    "\n",
    "    # distances[i] := binary representation of the distance travelled by courier i\n",
    "    # TODO 1: move here\n",
    "    solver.push()   # when backtracking, I want to use less digits! That's why I push the frame now   \n",
    "    distances = [[Bool(f\"dist_bin_{i}_{k}\") for k in range(dist_digits)] for i in range(m)]\n",
    "\n",
    "    # definition of distances using constraints\n",
    "    solver.add(distances_def_constraint_2(distances, r, D_bin, a)) # define a function in order to call it many times on distances w/ different length! i.e. different number of digits\n",
    "    \n",
    "    model = None\n",
    "    obj_value = None\n",
    "    while solver.check() == z3.sat:\n",
    "        model = solver.model()\n",
    "        obj_value = obj_function(model, distances)    # TODO: check that dist_digits of the modes actually contain the distance travelled by courier (check using r and D)\n",
    "        print(f\"This model obtained objective value: {obj_value}\")\n",
    "        obj_value_digits = num_bits(obj_value - 1)  # <= obj_value - 1  <==>  < obj_value #TODO: could not do this and pass immediately the evaluation of distance with maximum value, smaller overhead...\n",
    "                                                                                          # BUT then I couldn't print the line above!\n",
    "        obj_value_bin = int_to_bin(obj_value - 1, obj_value_digits)\n",
    "\n",
    "        solver.pop()\n",
    "        solver.push()\n",
    "        # TODO: IMPORTANT - check if recreating the distances variables every time actually slows down the solver (probably in case of solver that uses explanations/heuristics!)\n",
    "        # even tho they have less digits every time\n",
    "        distances = [[Bool(f\"dist_bin_{i}_{k}\") for k in range(obj_value_digits)] for i in range(m)]\n",
    "        D_bin =  [[int_to_bin(e, obj_value_digits) for e in D[j]] for j in range(n+1)]       \n",
    "        solver.add(distances_def_constraint_2(distances, r, D_bin, a)) # TODO: problemi: flat_D_bin[i] e distances non avranno gli stessi bits! distances molti di piu -> easy fix: implementa sum con generico numero di digits (Q: num(a) <= num(b) posso assumerlo??)\n",
    "        solver.add(AllLessEq_bin(distances, obj_value_bin, obj_value_digits)) # TODO: this time, LInearInteger called inside AllLess must be <, not <= !!! Pass it a parameter to use leq or (to implement) lt (less than)\n",
    "    \n",
    "    # TODO: re-do thing above again but for BINARY_SEARCH, not LINEAR_SEARCH, then add parameter to the input of the model to choose between which one to use\n",
    "\n",
    "    R = tensor(model, r)\n",
    "    # display_matrices(R, 'r')\n",
    "    \n",
    "    if model is None:\n",
    "        return \"UNSAT\"\n",
    "\n",
    "    return (R, obj_value)\n"
   ]
  },
  {
   "attachments": {},
   "cell_type": "markdown",
   "metadata": {},
   "source": [
    "#### Test"
   ]
  },
  {
   "cell_type": "code",
   "execution_count": 13,
   "metadata": {},
   "outputs": [
    {
     "name": "stdout",
     "output_type": "stream",
     "text": [
      "This model obtained objective value: 4\n"
     ]
    }
   ],
   "source": [
    "m = 1\n",
    "n = 3\n",
    "l = [15]\n",
    "s = [3, 2, 4]\n",
    "D = [[0, 1, 1, 1],\n",
    "     [1, 0, 1, 1],\n",
    "     [1, 1, 0, 1],\n",
    "     [1, 1, 1, 0]]\n",
    "\n",
    "displayMCP(multiple_couriers_planning_2(m, n, l, s, D))"
   ]
  },
  {
   "cell_type": "code",
   "execution_count": 14,
   "metadata": {},
   "outputs": [
    {
     "name": "stdout",
     "output_type": "stream",
     "text": [
      "This model obtained objective value: 12\n"
     ]
    }
   ],
   "source": [
    "m = 1\n",
    "n = 3\n",
    "l = [15]\n",
    "s = [3, 2, 4]\n",
    "D = [[0, 3, 3, 2],\n",
    "     [3, 0, 4, 3],\n",
    "     [3, 4, 0, 3],\n",
    "     [2, 3, 3, 0]]\n",
    "\n",
    "displayMCP(multiple_couriers_planning_2(m, n, l, s, D))"
   ]
  },
  {
   "cell_type": "code",
   "execution_count": 15,
   "metadata": {},
   "outputs": [
    {
     "name": "stdout",
     "output_type": "stream",
     "text": [
      "This model obtained objective value: 18\n",
      "This model obtained objective value: 12\n"
     ]
    }
   ],
   "source": [
    "m = 3\n",
    "n = 7\n",
    "l = [15, 10, 7]\n",
    "s = [3, 2, 6, 8, 5, 4, 4]\n",
    "D = [[0, 3, 3, 6, 5, 6, 6, 2],\n",
    "     [3, 0, 4, 3, 4, 7, 7, 3],\n",
    "     [3, 4, 0, 7, 6, 3, 5, 3],\n",
    "     [6, 3, 7, 0, 3, 6, 6, 4],\n",
    "     [5, 4, 6, 3, 0, 3, 3, 3],\n",
    "     [6, 7, 3, 6, 3, 0, 2, 4],\n",
    "     [6, 7, 5, 6, 3, 2, 0, 4],\n",
    "     [2, 3, 3, 4, 3, 4, 4, 0]]\n",
    "\n",
    "displayMCP(multiple_couriers_planning_2(m, n, l, s, D) )"
   ]
  }
 ],
 "metadata": {
  "kernelspec": {
   "display_name": "base",
   "language": "python",
   "name": "python3"
  },
  "language_info": {
   "codemirror_mode": {
    "name": "ipython",
    "version": 3
   },
   "file_extension": ".py",
   "mimetype": "text/x-python",
   "name": "python",
   "nbconvert_exporter": "python",
   "pygments_lexer": "ipython3",
   "version": "3.10.11"
  },
  "orig_nbformat": 4
 },
 "nbformat": 4,
 "nbformat_minor": 2
}
