{
 "cells": [
  {
   "cell_type": "code",
   "execution_count": 2,
   "metadata": {},
   "outputs": [],
   "source": [
    "from z3 import *"
   ]
  },
  {
   "attachments": {},
   "cell_type": "markdown",
   "metadata": {},
   "source": [
    "## Utils"
   ]
  },
  {
   "attachments": {},
   "cell_type": "markdown",
   "metadata": {},
   "source": [
    "### At most/least one & exactly one"
   ]
  },
  {
   "cell_type": "code",
   "execution_count": 3,
   "metadata": {},
   "outputs": [],
   "source": [
    "def at_least_one_seq(bool_vars):\n",
    "    return Or(bool_vars)\n",
    "\n",
    "def at_most_one_seq(x, name):\n",
    "    # bool_vars renamed to x for simplicity\n",
    "    n = len(x)\n",
    "    s = [Bool(f\"s_{i}_{name}\") for i in range(n-1)]     # \"name\" is used in order to create a\n",
    "                                                        # unique set of variables s for each constraint\n",
    "                                                        # of the kind at_most_one_seq, so that they do not overlap \n",
    "                                                        # for different constraints!\n",
    "                                                        # N.B. len(s) = n-1 != n = len (x)\n",
    "    clauses = []\n",
    "    clauses.append(Or(Not(x[0]), s[0]))                 # x[0] -> s[0] (s[i] modeled as: s[i] is true if the SUM UP TO index i IS 1!) i.e. x_1 -> s_1 in math notation\n",
    "    for i in range(1, n-1):\n",
    "        clauses.append(Or(Not(x[i]), s[i]))             # these two clauses model (x[i] v s[i-1]) -> s[i]\n",
    "        clauses.append(Or(Not(s[i-1]), s[i]))\n",
    "        clauses.append(Or(Not(s[i-1]), Not(x[i])))      # this one models s[i-1] -> not x[i]\n",
    "    clauses.append(Or(Not(s[-1]), Not(x[-1])))          # s[n-2] -> not x[n-1]  i.e. s_(n-1) -> s_n in the mathematical notation (1-based)\n",
    "    return And(clauses)\n",
    "\n",
    "def exactly_one_seq(bool_vars, name):\n",
    "    return And(at_least_one_seq(bool_vars), at_most_one_seq(bool_vars, name))"
   ]
  },
  {
   "cell_type": "code",
   "execution_count": 4,
   "metadata": {},
   "outputs": [
    {
     "name": "stdout",
     "output_type": "stream",
     "text": [
      "[d_0, d_1, d_2, d_3, d_4, d_5, d_6, d_7, d_8, d_9, d_10, d_11, d_12, d_13, d_14, d_15]\n"
     ]
    }
   ],
   "source": [
    "## FORSE COSE A CASO, tentativo di somma\n",
    "\n",
    "def add(a,b):\n",
    "    #convert to binary with length digits=10\n",
    "    digits = 16\n",
    "    a_bin = [(a%(2**(i+1)) // 2**i)==1 for i in range(digits,-1,-1)] #BitVec(a,digits).as_binary_string()  #https://ericpony.github.io/z3py-tutorial/guide-examples.htm\n",
    "    b_bin = [(b%(2**(i+1)) // 2**i)==1 for i in range(digits,-1,-1)] \n",
    "\n",
    "    d = [Bool(f\"d_{k}\") for k in range(digits)] #slide SAT-I\n",
    "    c = [Bool(f\"c_{k}\") for k in range(digits)]\n",
    "    c[0] = False\n",
    "\n",
    "    for k in range(digits-1,-1,-1):\n",
    "         d[k] == Or(And(a_bin[k],b_bin[k],c[k]), And(a_bin[k],Not(b_bin[k]),Not(c[k])), \n",
    "                                   And(Not(a_bin[k]),b_bin[k],Not(c[k])), And(Not(a_bin[k]),Not(b_bin[k]),c[k]))\n",
    "         c[k-1] == Or(And(a_bin[k],b_bin[k]), And(a_bin[k],c[k]), And(b_bin[k],c[k]))\n",
    "\n",
    "    #What if the result exceed the 16 digits supposed (c[0] True)\n",
    "    \n",
    "    return (d)\n",
    "\n",
    "f = add(8,0)\n",
    "print(f)"
   ]
  },
  {
   "attachments": {},
   "cell_type": "markdown",
   "metadata": {},
   "source": [
    "## Model 1"
   ]
  },
  {
   "cell_type": "code",
   "execution_count": 5,
   "metadata": {},
   "outputs": [],
   "source": [
    "def multiple_couriers_planning(m, n, l, sto, D):\n",
    "    ## VARIABLES\n",
    "\n",
    "    # a for assignments\n",
    "    a = [[Bool(f\"a_{i}_{j}\") for j in range(n)] for i in range(m)]\n",
    "    # a_ij = 1 indicates that courier i takes object j\n",
    "    # O(m * n) vars\n",
    "\n",
    "    # r for routes\n",
    "    r = [[[Bool(f\"r_{k}_{j}_{i}\") for k in range(n)] for j in range(n)] for i in range(m)]  \n",
    "    # r_kji = 1 indicates that courier i delivers object j as its k-th delivery\n",
    "    # O(m * n^2) vars\n",
    "\n",
    "    s = Solver()\n",
    "\n",
    "\n",
    "    ## CONSTRAINTS\n",
    "    # Constraint 1: every object is assigned to one and only one courier\n",
    "    for j in range(n):\n",
    "        s.add(exactly_one_seq([a[i][j] for i in range(m)], f\"assignment_{j}\"))\n",
    "    \n",
    "    # Interesting question: see discussion forum (distance func. property)\n",
    "\n",
    "    mult(3, 7, 21)\n",
    "\n",
    "    # Penso non vada bene così\n",
    "    for i in range(m):\n",
    "        somma_in_i = 0\n",
    "        for j in range(n):\n",
    "            somma_in_i += If(a[i][j],sto[j],0)\n",
    "        s.add(somma_in_i<l[i], f\"load{i}\")\n"
   ]
  },
  {
   "cell_type": "code",
   "execution_count": 6,
   "metadata": {},
   "outputs": [
    {
     "data": {
      "text/plain": [
       "[7, 8, 9]"
      ]
     },
     "execution_count": 6,
     "metadata": {},
     "output_type": "execute_result"
    }
   ],
   "source": [
    "E = [[1, 2, 3], [4, 5, 6], [7, 8, 9]]\n",
    "E[2]"
   ]
  },
  {
   "cell_type": "code",
   "execution_count": null,
   "metadata": {},
   "outputs": [],
   "source": []
  }
 ],
 "metadata": {
  "kernelspec": {
   "display_name": "base",
   "language": "python",
   "name": "python3"
  },
  "language_info": {
   "codemirror_mode": {
    "name": "ipython",
    "version": 3
   },
   "file_extension": ".py",
   "mimetype": "text/x-python",
   "name": "python",
   "nbconvert_exporter": "python",
   "pygments_lexer": "ipython3",
   "version": "3.10.11"
  },
  "orig_nbformat": 4
 },
 "nbformat": 4,
 "nbformat_minor": 2
}
