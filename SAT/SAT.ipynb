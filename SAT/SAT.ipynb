{
 "cells": [
  {
   "cell_type": "code",
   "execution_count": 1,
   "metadata": {},
   "outputs": [],
   "source": [
    "from z3 import *"
   ]
  },
  {
   "attachments": {},
   "cell_type": "markdown",
   "metadata": {},
   "source": [
    "## Utils"
   ]
  },
  {
   "attachments": {},
   "cell_type": "markdown",
   "metadata": {},
   "source": [
    "### At most/least one & exactly one"
   ]
  },
  {
   "cell_type": "code",
   "execution_count": null,
   "metadata": {},
   "outputs": [],
   "source": [
    "def at_least_one_seq(bool_vars):\n",
    "    return Or(bool_vars)\n",
    "\n",
    "def at_most_one_seq(x, name):\n",
    "    # bool_vars renamed to x for simplicity\n",
    "    n = len(x)\n",
    "    s = [Bool(f\"s_{i}_{name}\") for i in range(n-1)]     # \"name\" is used in order to create a\n",
    "                                                        # unique set of variables s for each constraint\n",
    "                                                        # of the kind at_most_one_seq, so that they do not overlap \n",
    "                                                        # for different constraints!\n",
    "                                                        # N.B. len(s) = n-1 != n = len (x)\n",
    "    clauses = []\n",
    "    clauses.append(Or(Not(x[0]), s[0]))                 # x[0] -> s[0] (s[i] modeled as: s[i] is true if the SUM UP TO index i IS 1!) i.e. x_1 -> s_1 in math notation\n",
    "    for i in range(1, n-1):\n",
    "        clauses.append(Or(Not(x[i]), s[i]))             # these two clauses model (x[i] v s[i-1]) -> s[i]\n",
    "        clauses.append(Or(Not(s[i-1]), s[i]))\n",
    "        clauses.append(Or(Not(s[i-1]), Not(x[i])))      # this one models s[i-1] -> not x[i]\n",
    "    clauses.append(Or(Not(s[-1]), Not(x[-1])))          # s[n-2] -> not x[n-1]  i.e. s_(n-1) -> s_n in the mathematical notation (1-based)\n",
    "    return And(clauses)\n",
    "\n",
    "def exactly_one_seq(bool_vars, name):\n",
    "    return And(at_least_one_seq(bool_vars), at_most_one_seq(bool_vars, name))"
   ]
  },
  {
   "attachments": {},
   "cell_type": "markdown",
   "metadata": {},
   "source": [
    "## Model 1"
   ]
  },
  {
   "cell_type": "code",
   "execution_count": null,
   "metadata": {},
   "outputs": [],
   "source": [
    "def multiple_couriers_planning_1(m, n, l, s, D):\n",
    "    ## VARIABLES\n",
    "\n",
    "    # a for assignments\n",
    "    a = [[Bool(f\"a_{i}_{j}\") for j in range(n)] for i in range(m)]\n",
    "    # a_ij = 1 indicates that courier i takes object j\n",
    "    # O(m * n) vars\n",
    "\n",
    "    # r for routes\n",
    "    r = [[[Bool(f\"r_{k}_{j}_{i}\") for k in range(n)] for j in range(n)] for i in range(m)]  \n",
    "    # r_kji = 1 indicates that courier i delivers object j as its k-th delivery\n",
    "    # O(m * n^2) vars\n",
    "\n",
    "    s = Solver()\n",
    "\n",
    "\n",
    "    ## CONSTRAINTS\n",
    "    # Constraint 1: every object is assigned to one and only one courier\n",
    "    for j in range(n):\n",
    "        s.add(exactly_one_seq([a[i][j] for i in range(m)], f\"assignment_{j}\"))\n",
    "    \n",
    "    # Interesting question: see discussion forum (distance func. property)\n",
    "    # -> answer: the distance is quasimetric => we can add implicit constraint \"every courier has at least 1 package to deliver\"\n",
    "    # TODO: check if it actually speeds up execution\n",
    "    \n",
    "\n"
   ]
  },
  {
   "attachments": {},
   "cell_type": "markdown",
   "metadata": {},
   "source": [
    "# Encodings Ideas"
   ]
  },
  {
   "attachments": {},
   "cell_type": "markdown",
   "metadata": {},
   "source": [
    "#### Idea 1 - Ordering only on objects\n",
    "\n",
    "Instead of keeping r_k_j_i for the route of courier i, let's just keep an ordering matrix nxn, call it O, s.t. O_k_j = 1 iff object k is delivered as j-th object => i.e. we remove the courier assignment and we only use it as an ordering between objects\n",
    "\n",
    "PRO: O(n^2) variables << O(m*n^2) variables\n",
    "CON: have a lot of simmetries, because different matrices correspond to the same general set of routes if you swap orders for objects of 2 different couriers while keeping their relative position w.r.t. each courier route"
   ]
  },
  {
   "attachments": {},
   "cell_type": "markdown",
   "metadata": {},
   "source": [
    "#### Idea 2\n",
    "\n",
    "Mantain the routes r_k_j_i but find a way to use a_ij = 0 => a whole row/col of r_?_?_i is full of 0s\n",
    "i.e. use a structure that enables for more constraints on r, s.t. avoid the \"random values below row K, with K = #objects delivered by courier i\""
   ]
  },
  {
   "cell_type": "markdown",
   "metadata": {},
   "source": []
  }
 ],
 "metadata": {
  "kernelspec": {
   "display_name": "base",
   "language": "python",
   "name": "python3"
  },
  "language_info": {
   "codemirror_mode": {
    "name": "ipython",
    "version": 3
   },
   "file_extension": ".py",
   "mimetype": "text/x-python",
   "name": "python",
   "nbconvert_exporter": "python",
   "pygments_lexer": "ipython3",
   "version": "3.7.9"
  },
  "orig_nbformat": 4
 },
 "nbformat": 4,
 "nbformat_minor": 2
}
