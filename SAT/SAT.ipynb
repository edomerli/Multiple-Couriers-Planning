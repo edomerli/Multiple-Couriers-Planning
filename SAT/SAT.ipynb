{
 "cells": [
  {
   "cell_type": "code",
   "execution_count": 60,
   "metadata": {},
   "outputs": [],
   "source": [
    "from z3 import *\n",
    "import math"
   ]
  },
  {
   "attachments": {},
   "cell_type": "markdown",
   "metadata": {},
   "source": [
    "## Utils"
   ]
  },
  {
   "attachments": {},
   "cell_type": "markdown",
   "metadata": {},
   "source": [
    "#### At most/least one & exactly one"
   ]
  },
  {
   "cell_type": "code",
   "execution_count": 61,
   "metadata": {},
   "outputs": [],
   "source": [
    "def at_least_one_seq(bool_vars):\n",
    "    return Or(bool_vars)\n",
    "\n",
    "def at_most_one_seq(x, name):\n",
    "    # bool_vars renamed to x for simplicity\n",
    "    n = len(x)\n",
    "    if n == 1:\n",
    "        return True\n",
    "    s = [Bool(f\"s_{i}_{name}\") for i in range(n-1)]     # \"name\" is used in order to create a\n",
    "                                                        # unique set of variables s for each constraint\n",
    "                                                        # of the kind at_most_one_seq, so that they do not overlap \n",
    "                                                        # for different constraints!\n",
    "                                                        # N.B. len(s) = n-1 != n = len (x)\n",
    "    clauses = []\n",
    "    clauses.append(Or(Not(x[0]), s[0]))                 # x[0] -> s[0] (s[i] modeled as: s[i] is true if the SUM UP TO index i IS 1!) i.e. x_1 -> s_1 in math notation\n",
    "    for i in range(1, n-1):\n",
    "        clauses.append(Or(Not(x[i]), s[i]))             # these two clauses model (x[i] v s[i-1]) -> s[i]\n",
    "        clauses.append(Or(Not(s[i-1]), s[i]))\n",
    "        clauses.append(Or(Not(s[i-1]), Not(x[i])))      # this one models s[i-1] -> not x[i]\n",
    "    clauses.append(Or(Not(s[-1]), Not(x[-1])))          # s[n-2] -> not x[n-1]  i.e. s_(n-1) -> s_n in the mathematical notation (1-based)\n",
    "    return And(clauses)\n",
    "\n",
    "def exactly_one_seq(bool_vars, name):\n",
    "    return And(at_least_one_seq(bool_vars), at_most_one_seq(bool_vars, name))"
   ]
  },
  {
   "attachments": {},
   "cell_type": "markdown",
   "metadata": {},
   "source": [
    "#### Conversion from int to bin"
   ]
  },
  {
   "cell_type": "code",
   "execution_count": 62,
   "metadata": {},
   "outputs": [],
   "source": [
    "def find_max_digits(s, l): # TODO Idea: optimize number of digits depending on cases\n",
    "    return math.ceil(math.log2(max(sum(s), max(l))))"
   ]
  },
  {
   "cell_type": "code",
   "execution_count": 63,
   "metadata": {},
   "outputs": [],
   "source": [
    "def int_to_bin(x, digits=5):  # TODO read: #https://ericpony.github.io/z3py-tutorial/guide-examples.htm\n",
    "    x_bin = [(x%(2**(i+1)) // 2**i)==1 for i in range(digits-1,-1,-1)]\n",
    "    return x_bin"
   ]
  },
  {
   "attachments": {},
   "cell_type": "markdown",
   "metadata": {},
   "source": [
    "#### Operations on binary numbers"
   ]
  },
  {
   "cell_type": "code",
   "execution_count": 64,
   "metadata": {},
   "outputs": [],
   "source": [
    "def equal(v, u, digits):\n",
    "    return And([v[k]==u[k] for k in range(digits)])\n",
    "\n",
    "def all_false(v, digits=1):\n",
    "    return And([Not(v[k]) for k in range(digits)])\n",
    "\n",
    "def leq(v, u, digits): #v<=u\n",
    "    if digits == 1:\n",
    "        return Or(v[0]==u[0], And(Not(v[0]), u[0]))\n",
    "    else:\n",
    "        return Or(And(Not(v[0]), u[0]), \n",
    "                  And(v[0]==u[0], leq(v[1:], u[1:], digits-1)))\n"
   ]
  },
  {
   "cell_type": "code",
   "execution_count": 65,
   "metadata": {},
   "outputs": [],
   "source": [
    "def sum_bin(a_bin, b_bin, d_bin, digits, name):\n",
    "    \"\"\"Encodes into a SAT formula the binary sum {a_bin + b_bin = d_bin}, each number having {digits} num of bits\n",
    "\n",
    "    Args:\n",
    "        a_bin (list[bool]): binary representation of a\n",
    "        b_bin (list[bool]): binary representation of b\n",
    "        d_bin (list[bool]): binary representation of d\n",
    "        digits (int): number of bits of each number \n",
    "        name (str): string to identify carry boolean variables\n",
    "\n",
    "    Returns:\n",
    "        (Z3-expression): formula representing SAT encoding of binary sum\n",
    "    \"\"\"\n",
    "\n",
    "    #slide SAT-I\n",
    "    c = [Bool(f\"c_{k}_{name}\") for k in range(digits+1)]\n",
    "    c[0] = False\n",
    "    c[-1] = False\n",
    "\n",
    "    clauses = []\n",
    "    for k in range(digits-1,-1,-1):\n",
    "        # clauses.append((a_bin[k] == b_bin[k]) == (c[k+1] == d_bin[k]))    #TODO: check if it is faster\n",
    "        clauses.append(d_bin[k] == Or(And(a_bin[k], b_bin[k], c[k+1]), And(a_bin[k], Not(b_bin[k]), Not(c[k+1])), \n",
    "                                   And(Not(a_bin[k]), b_bin[k], Not(c[k+1])), And(Not(a_bin[k]), Not(b_bin[k]), c[k+1])))\n",
    "        clauses.append(c[k] == Or(And(a_bin[k],b_bin[k]), And(a_bin[k],c[k+1]), And(b_bin[k],c[k+1])))\n",
    "\n",
    "    return And(clauses)"
   ]
  },
  {
   "cell_type": "code",
   "execution_count": 66,
   "metadata": {},
   "outputs": [],
   "source": [
    "def LinearInteger(c_i, s, l_i, i, n, digits):\n",
    "    \"\"\"Encodes into a SAT formula the linear constraint {sum_over_j(s_i[j] | c_i[j] == True) <= l_i}\n",
    "\n",
    "    Args:\n",
    "        c_i (list[bool]): a[i,:] in model 1\n",
    "        s (list[list[bool]]): list of sizes of objects, each one represented as list[bool] i.e. binary number\n",
    "        l_i (int): load of courier i        #TODO: change to l_i_bin and convert in calling function?\n",
    "        i (int): index of courier (doing the job of name)\n",
    "        n (int): number of objects\n",
    "        digits (int): number of digits required to represent l_i and numbers in s\n",
    "\n",
    "    Returns:\n",
    "        formula (Z3-expression): And of clauses representing SAT encoding of Linear Integer constraint\n",
    "    \"\"\"\n",
    "    # matrix containing temporary results of sum_bin\n",
    "    d = [[Bool(f\"d_{j}_{k}_{i}\") for k in range(digits)] for j in range(n)]\n",
    "\n",
    "    clauses = []\n",
    "\n",
    "    # row 0\n",
    "    clauses.append( And(Implies(c_i[0], equal(d[0], s[0], digits)),                 # If c_i[0] == 1 then d_0 == s_0\n",
    "                        Implies(Not(c_i[0]), all_false(d[0], digits))))              # elif c_i[0] == 0 then d_0 == [0..0]\n",
    "    \n",
    "    # row j>1\n",
    "    for j in range(1,n):\n",
    "        clauses.append( And(Implies(c_i[j], sum_bin(d[j-1], s[j], d[j], digits, f\"{i}_{j-1}_{j}\")),           # If c_j == 1 then d_j == d_j-1 + s_j \n",
    "                            Implies(Not(c_i[j]), equal(d[j], d[j-1], digits))))             # elif c_j == 0 then d_j == d_j-1\n",
    "\n",
    "    # TODO: aggiungere a clause che d_n <= l_i\n",
    "    # I suppose to enter l_i as integer (is it the best idea to optimize the program?)\n",
    "    l_i_bin = int_to_bin(l_i, digits)\n",
    "    clauses.append(leq(d[n-1], l_i_bin, digits)) \n",
    "    # TODO: does it make any sense to check d_j <= l_i_bin forall j or better to just do it for d_n?\n",
    "    # TODO: have to check for overflows in num. digits?\n",
    "\n",
    "    formula = And(clauses)\n",
    "    return formula\n",
    "\n"
   ]
  },
  {
   "attachments": {},
   "cell_type": "markdown",
   "metadata": {},
   "source": [
    "## Model 1"
   ]
  },
  {
   "cell_type": "code",
   "execution_count": 67,
   "metadata": {},
   "outputs": [],
   "source": [
    "def interest_variables(model, a):\n",
    "    return [[j for j in range(len(a[0])) if model.evaluate(a[i][j])] for i in range(len(a))]\n",
    "\n",
    "def displayMCP(assignments):\n",
    "    for i in range(len(assignments)):\n",
    "        print(f\"Courier {i}: items {assignments[i]}\")"
   ]
  },
  {
   "cell_type": "code",
   "execution_count": 68,
   "metadata": {},
   "outputs": [],
   "source": [
    "# TODO: add (and copy-implement) timeout decorator\n",
    "def multiple_couriers_planning_1(m, n, l, s, D):\n",
    "    \"\"\"_summary_\n",
    "\n",
    "    Args:\n",
    "        m (_type_): _description_\n",
    "        n (_type_): _description_\n",
    "        l (_type_): _description_\n",
    "        s (_type_): _description_\n",
    "        D (_type_): _description_\n",
    "    \"\"\"\n",
    "    ## VARIABLES\n",
    "\n",
    "    # a for assignments\n",
    "    a = [[Bool(f\"a_{i}_{j}\") for j in range(n)] for i in range(m)]\n",
    "    # a_ij = 1 indicates that courier i takes object j\n",
    "    # O(m * n) vars\n",
    "\n",
    "    # r for routes\n",
    "    r = [[[Bool(f\"r_{k}_{j}_{i}\") for k in range(n)] for j in range(n)] for i in range(m)]  \n",
    "    # r_kji = 1 indicates that courier i delivers object j as its k-th delivery\n",
    "    # O(m * n^2) vars\n",
    "\n",
    "    solver = Solver()\n",
    "\n",
    "    ## CONSTRAINTS\n",
    "    # Constraint 1: every object is assigned to one and only one courier\n",
    "    for j in range(n):\n",
    "        solver.add(exactly_one_seq([a[i][j] for i in range(m)], f\"assignment_{j}\"))\n",
    "    \n",
    "    # Constraint 2: every courier can't exceed its load capacity\n",
    "    digits = find_max_digits(s, l)\n",
    "    s_bin = [int_to_bin(s_j, digits) for s_j in s]\n",
    "    for i in range(m):\n",
    "        solver.add(LinearInteger(a[i], s_bin, l[i], i, n, digits))\n",
    "\n",
    "    # Constraint 3: every courier has at least 1 item to deliver (implicit constraint, because n >= m and distance is quasimetric (from discussion forum))\n",
    "    # TODO: check if it actually speeds up execution\n",
    "    for i in range(m):\n",
    "        solver.add(at_least_one_seq(a[i]))\n",
    "\n",
    "    # Constraint 4: routes\n",
    "    for i in range(m):\n",
    "        for j in range(n): #row\n",
    "            solver.add(Implies(a[i][j], exactly_one_seq(r[i][j], f\"time_schedule_item{j}_deliveredby{i}\")))  # If a_ij then exactly_one(r_ij)\n",
    "            solver.add(Implies(Not(a[i][j]), all_false(r[i][j])))   # else all_false(r_ij)\n",
    "\n",
    "        # for k in range(sum(a[i])):  #solve the problem of SUM\n",
    "        #   solver.add(exactly_one_seq([r[i][j][k] for j in range(n)], f\"zeros colums of r{i}{j}\")) # all not necessary columns on the right are zeros\n",
    "        \n",
    "        for k in range(n): #colums\n",
    "            solver.add(Implies(a[i][k], exactly_one_seq([r[i][j][k] for j in range(n)], f\"zeros_colums_of_r{i}{k}\")))  # If a_ij then exactly_one(r_i,:,k)\n",
    "            solver.add(Implies(Not(a[i][k]), all_false([r[i][j][k] for j in range(n)])))   # else all_false(r_i,:,k) \n",
    "            # TODO imply false just for the one that weren't alredy counted in the rows\n",
    "\n",
    "    \n",
    "\n",
    "    solver.check()\n",
    "    model = solver.model()\n",
    "    return interest_variables(model, a)\n"
   ]
  },
  {
   "attachments": {},
   "cell_type": "markdown",
   "metadata": {},
   "source": [
    "### Testing Model 1"
   ]
  },
  {
   "cell_type": "code",
   "execution_count": 69,
   "metadata": {},
   "outputs": [
    {
     "name": "stdout",
     "output_type": "stream",
     "text": [
      "Courier 0: items [2, 4, 5]\n",
      "Courier 1: items [1, 3]\n",
      "Courier 2: items [0, 6]\n"
     ]
    }
   ],
   "source": [
    "m = 3\n",
    "n = 7\n",
    "l = [15, 10, 7]\n",
    "s = [3, 2, 6, 8, 5, 4, 4]\n",
    "D = [[0, 3, 3, 6, 5, 6, 6, 2],\n",
    "     [3, 0, 4, 3, 4, 7, 7, 3],\n",
    "     [3, 4, 0, 7, 6, 3, 5, 3],\n",
    "     [6, 3, 7, 0, 3, 6, 6, 4],\n",
    "     [5, 4, 6, 3, 0, 3, 3, 3],\n",
    "     [6, 7, 3, 6, 3, 0, 2, 4],\n",
    "     [6, 7, 5, 6, 3, 2, 0, 4],\n",
    "     [2, 3, 3, 4, 3, 4, 4, 0]]\n",
    "\n",
    "displayMCP(multiple_couriers_planning_1(m, n, l, s, D))"
   ]
  },
  {
   "cell_type": "code",
   "execution_count": 70,
   "metadata": {},
   "outputs": [
    {
     "name": "stdout",
     "output_type": "stream",
     "text": [
      "Courier 0: items [0, 1, 2]\n"
     ]
    }
   ],
   "source": [
    "m = 1\n",
    "n = 3\n",
    "l = [15]\n",
    "s = [3, 2, 4]\n",
    "D = [[0, 3, 3, 2],\n",
    "     [3, 0, 4, 3],\n",
    "     [3, 4, 0, 3],\n",
    "     [2, 3, 3, 0]]\n",
    "\n",
    "displayMCP(multiple_couriers_planning_1(m, n, l, s, D))"
   ]
  },
  {
   "cell_type": "code",
   "execution_count": null,
   "metadata": {},
   "outputs": [],
   "source": []
  }
 ],
 "metadata": {
  "kernelspec": {
   "display_name": "base",
   "language": "python",
   "name": "python3"
  },
  "language_info": {
   "codemirror_mode": {
    "name": "ipython",
    "version": 3
   },
   "file_extension": ".py",
   "mimetype": "text/x-python",
   "name": "python",
   "nbconvert_exporter": "python",
   "pygments_lexer": "ipython3",
   "version": "3.10.11"
  },
  "orig_nbformat": 4
 },
 "nbformat": 4,
 "nbformat_minor": 2
}
