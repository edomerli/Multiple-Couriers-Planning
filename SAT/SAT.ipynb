{
 "cells": [
  {
   "cell_type": "code",
   "execution_count": 8,
   "metadata": {},
   "outputs": [],
   "source": [
    "from z3 import *\n",
    "import math"
   ]
  },
  {
   "attachments": {},
   "cell_type": "markdown",
   "metadata": {},
   "source": [
    "## Utils"
   ]
  },
  {
   "attachments": {},
   "cell_type": "markdown",
   "metadata": {},
   "source": [
    "#### At most/least one & exactly one"
   ]
  },
  {
   "cell_type": "code",
   "execution_count": 9,
   "metadata": {},
   "outputs": [],
   "source": [
    "def at_least_one_seq(bool_vars):\n",
    "    return Or(bool_vars)\n",
    "\n",
    "def at_most_one_seq(x, name):\n",
    "    # bool_vars renamed to x for simplicity\n",
    "    n = len(x)\n",
    "    if n == 1:\n",
    "        return True\n",
    "    s = [Bool(f\"s_{i}_{name}\") for i in range(n-1)]     # \"name\" is used in order to create a\n",
    "                                                        # unique set of variables s for each constraint\n",
    "                                                        # of the kind at_most_one_seq, so that they do not overlap \n",
    "                                                        # for different constraints!\n",
    "                                                        # N.B. len(s) = n-1 != n = len (x)\n",
    "    clauses = []\n",
    "    clauses.append(Or(Not(x[0]), s[0]))                 # x[0] -> s[0] (s[i] modeled as: s[i] is true if the SUM UP TO index i IS 1!) i.e. x_1 -> s_1 in math notation\n",
    "    for i in range(1, n-1):\n",
    "        clauses.append(Or(Not(x[i]), s[i]))             # these two clauses model (x[i] v s[i-1]) -> s[i]\n",
    "        clauses.append(Or(Not(s[i-1]), s[i]))\n",
    "        clauses.append(Or(Not(s[i-1]), Not(x[i])))      # this one models s[i-1] -> not x[i]\n",
    "    clauses.append(Or(Not(s[-1]), Not(x[-1])))          # s[n-2] -> not x[n-1]  i.e. s_(n-1) -> s_n in the mathematical notation (1-based)\n",
    "    return And(clauses)\n",
    "\n",
    "def exactly_one_seq(bool_vars, name):\n",
    "    return And(at_least_one_seq(bool_vars), at_most_one_seq(bool_vars, name))"
   ]
  },
  {
   "attachments": {},
   "cell_type": "markdown",
   "metadata": {},
   "source": [
    "#### Conversion from int to bin"
   ]
  },
  {
   "cell_type": "code",
   "execution_count": 10,
   "metadata": {},
   "outputs": [],
   "source": [
    "def find_max_digits(s, l): # TODO Idea: optimize number of digits depending on cases\n",
    "    return math.ceil(math.log2(max(sum(s), max(l))))"
   ]
  },
  {
   "cell_type": "code",
   "execution_count": 11,
   "metadata": {},
   "outputs": [],
   "source": [
    "def int_to_bin(x, digits=5):  # TODO read: #https://ericpony.github.io/z3py-tutorial/guide-examples.htm\n",
    "    x_bin = [(x%(2**(i+1)) // 2**i)==1 for i in range(digits-1,-1,-1)]\n",
    "    return x_bin"
   ]
  },
  {
   "attachments": {},
   "cell_type": "markdown",
   "metadata": {},
   "source": [
    "#### Operations on binary numbers"
   ]
  },
  {
   "cell_type": "code",
   "execution_count": 12,
   "metadata": {},
   "outputs": [],
   "source": [
    "def equal(v, u, digits):\n",
    "    return And([v[k]==u[k] for k in range(digits)])\n",
    "\n",
    "def all_false(v):\n",
    "    return And([Not(v[k]) for k in range(len(v))])\n",
    "\n",
    "def leq(v, u, digits): #v<=u\n",
    "    if digits == 1:\n",
    "        return Or(v[0]==u[0], And(Not(v[0]), u[0]))\n",
    "    else:\n",
    "        return Or(And(Not(v[0]), u[0]), \n",
    "                  And(v[0]==u[0], leq(v[1:], u[1:], digits-1)))\n"
   ]
  },
  {
   "cell_type": "code",
   "execution_count": 13,
   "metadata": {},
   "outputs": [],
   "source": [
    "def sum_bin(a_bin, b_bin, d_bin, digits, name):\n",
    "    \"\"\"Encodes into a SAT formula the binary sum {a_bin + b_bin = d_bin}, each number having {digits} num of bits\n",
    "\n",
    "    Args:\n",
    "        a_bin (list[bool]): binary representation of a\n",
    "        b_bin (list[bool]): binary representation of b\n",
    "        d_bin (list[bool]): binary representation of d\n",
    "        digits (int): number of bits of each number \n",
    "        name (str): string to identify carry boolean variables\n",
    "\n",
    "    Returns:\n",
    "        (Z3-expression): formula representing SAT encoding of binary sum\n",
    "    \"\"\"\n",
    "\n",
    "    #slide SAT-I\n",
    "    c = [Bool(f\"c_{k}_{name}\") for k in range(digits+1)]\n",
    "    c[0] = False\n",
    "    c[-1] = False\n",
    "\n",
    "    clauses = []\n",
    "    for k in range(digits-1,-1,-1):\n",
    "        # clauses.append((a_bin[k] == b_bin[k]) == (c[k+1] == d_bin[k]))    #TODO: check if it is faster\n",
    "        clauses.append(d_bin[k] == Or(And(a_bin[k], b_bin[k], c[k+1]), And(a_bin[k], Not(b_bin[k]), Not(c[k+1])), \n",
    "                                   And(Not(a_bin[k]), b_bin[k], Not(c[k+1])), And(Not(a_bin[k]), Not(b_bin[k]), c[k+1])))\n",
    "        clauses.append(c[k] == Or(And(a_bin[k],b_bin[k]), And(a_bin[k],c[k+1]), And(b_bin[k],c[k+1])))\n",
    "\n",
    "    return And(clauses)"
   ]
  },
  {
   "attachments": {},
   "cell_type": "markdown",
   "metadata": {},
   "source": [
    "#### Linear Integer constraint over binary numbers"
   ]
  },
  {
   "cell_type": "code",
   "execution_count": 14,
   "metadata": {},
   "outputs": [],
   "source": [
    "def LinearInteger_bin(x, alpha, beta, name):\n",
    "    \"\"\"Encodes into a SAT formula the linear constraint {sum_over_j(alpha[j] | x[j] == True) <= beta}\n",
    "\n",
    "    Args: \n",
    "        x (list[bool]): list of coefficients, i.e. x_j tells wether or not to add alpha_j to the sum\n",
    "        alpha (list[list[bool]]): list of TODO, each one represented as list[bool] i.e. binary number, whose subset will be summed in the constraint\n",
    "        beta (list[bool]): binary representing the known term, i.e. the upper bound for the sum\n",
    "        name (string): to uniquely identify the created variables\n",
    "    Returns:\n",
    "        formula (Z3-expression): And of clauses representing SAT encoding of Linear Integer constraint\n",
    "    \"\"\"\n",
    "    n = len(x)\n",
    "    digits = len(beta)\n",
    "\n",
    "    # matrix containing temporary results of sum_bin\n",
    "    d = [[Bool(f\"d_{j}_{k}_{name}\") for k in range(digits)] for j in range(n)]\n",
    "\n",
    "    clauses = []\n",
    "\n",
    "    # row 0\n",
    "    clauses.append( And(Implies(x[0], equal(d[0], alpha[0], digits)),              # If x[0] == 1 then d_0 == alpha_0\n",
    "                        Implies(Not(x[0]), all_false(d[0]))))              # elif x[0] == 0 then d_0 == [0..0]\n",
    "    \n",
    "    # row j>1\n",
    "    for j in range(1,n):\n",
    "        clauses.append( And(Implies(x[j], sum_bin(d[j-1], alpha[j], d[j], digits, f\"{name}_{j-1}_{j}\")),           # If c_j == 1 then d_j == d_j-1 + alpha_j \n",
    "                            Implies(Not(x[j]), equal(d[j], d[j-1], digits))))                                      # elif c_j == 0 then d_j == d_j-1\n",
    "\n",
    "    # TODO: aggiungere a clause che d_n <= beta\n",
    "    # I suppose to enter beta as integer (is it the best idea to optimize the program?)\n",
    "    clauses.append(leq(d[n-1], beta, digits)) \n",
    "    # TODO: does it make any sense to check d_j <= beta forall j or better to just do it for d_n?\n",
    "    # TODO: have to check for overflows in num. digits?\n",
    "\n",
    "    formula = And(clauses)\n",
    "    return formula\n",
    "\n"
   ]
  },
  {
   "attachments": {},
   "cell_type": "markdown",
   "metadata": {},
   "source": [
    "#### Functions to display solution"
   ]
  },
  {
   "cell_type": "code",
   "execution_count": 15,
   "metadata": {},
   "outputs": [],
   "source": [
    "def interest_variables(model, a):\n",
    "    return [[j for j in range(len(a[0])) if model.evaluate(a[i][j])] for i in range(len(a))]\n",
    "\n",
    "def displayMCP(assignments):\n",
    "    for i in range(len(assignments)):\n",
    "        print(f\"Courier {i}: items {assignments[i]}\")"
   ]
  },
  {
   "attachments": {},
   "cell_type": "markdown",
   "metadata": {},
   "source": [
    "#### Functions to display matrices of tensor and dist"
   ]
  },
  {
   "cell_type": "code",
   "execution_count": 16,
   "metadata": {},
   "outputs": [],
   "source": [
    "### Add by Scaio\n",
    "\n",
    "def tensor(model, bools):\n",
    "    m = len(bools)\n",
    "    n = len(bools[0])\n",
    "    return [[[model.evaluate(bools[i][j][k]) for k in range(n)] for j in range(n)] for i in range(m)]\n",
    "\n",
    "def display_matrices(tensor, name):\n",
    "    m = len(tensor)\n",
    "    n = len(tensor[0])\n",
    "    for i in range(m):\n",
    "        print(f'{name}_{i} matrix:')\n",
    "        for j in range(n):\n",
    "            print(tensor[i][j])\n",
    "        print()\n",
    "\n",
    "def courier_dist(model, r_i, a_i, D, n): # Implemented with the assumption where r_i is the matrix nxn where \n",
    "                                         # j is the object and k indicates, with respect to the other columns, the order of delivery\n",
    "    dist = 0\n",
    "    actual_pos = n #the origin, it would be n+1\n",
    "    next_pos = n\n",
    "    for k in range(n): #sum(a_i)+1):\n",
    "        for j in range(n):\n",
    "            if model.evaluate(r_i[k][j]):\n",
    "                next_pos = j\n",
    "        dist += D[actual_pos][next_pos]\n",
    "        actual_pos = next_pos\n",
    "    dist += D[actual_pos][n] #the origin, it would be n+1\n",
    "    return dist\n",
    "\n",
    "def max_dist(model, r, a, D, m, n):\n",
    "    return max([courier_dist(model, r[i], a[i], D, n) for i in range(m)])\n",
    "\n",
    "###"
   ]
  },
  {
   "attachments": {},
   "cell_type": "markdown",
   "metadata": {},
   "source": [
    "#### Function to check that routes are all Hamiltonian cycles"
   ]
  },
  {
   "cell_type": "code",
   "execution_count": 64,
   "metadata": {},
   "outputs": [],
   "source": [
    "def check_all_hamiltonian(tensor):\n",
    "    m = len(tensor)\n",
    "    for i in range(m):\n",
    "        if not check_hamiltonian(tensor[i]):\n",
    "            print(f\"AAA errore in {i}\")\n",
    "            return False\n",
    "    return True\n",
    "\n",
    "def check_hamiltonian(matrix):\n",
    "    n = len(matrix)\n",
    "    visited = [0] * n\n",
    "    v = n-1\n",
    "    while visited[v] == 0:\n",
    "        visited[v] = 1\n",
    "        for k in range(n):\n",
    "            if matrix[v][k] == True:\n",
    "                v = k\n",
    "                break\n",
    "    num_vertices = sum(row.count(True) for row in matrix)\n",
    "    return (sum(visited) == num_vertices)\n"
   ]
  },
  {
   "attachments": {},
   "cell_type": "markdown",
   "metadata": {},
   "source": [
    "## Assumptions"
   ]
  },
  {
   "attachments": {},
   "cell_type": "markdown",
   "metadata": {},
   "source": [
    "Assumpions that we can make:\n",
    "1. $n >= m$\n",
    "2. The distance matrix $D$ is quasimetric (more info [here](https://proofwiki.org/wiki/Definition:Quasimetric)) => Giving an item to courier who has none is always \"same or better\" than giving 2 to another courier and none to this one\n",
    "\n",
    "(Note: 1. + 2. => can add implicit constraint \"Every courier has at least one item assigned to it\")"
   ]
  },
  {
   "attachments": {},
   "cell_type": "markdown",
   "metadata": {},
   "source": [
    "## Model 1"
   ]
  },
  {
   "cell_type": "code",
   "execution_count": 68,
   "metadata": {},
   "outputs": [],
   "source": [
    "# TODO: add (and copy-implement) timeout decorator\n",
    "def multiple_couriers_planning_1(m, n, l, s, D):\n",
    "    \"\"\"Model 1 in Z3 for the Multiple Couriers Planning problem\n",
    "\n",
    "    Args:\n",
    "        m (int): number of couriers\n",
    "        n (int): number of items to deliver\n",
    "        l (list[int]): l[i] represents the maximum load of courier i, for i = 1..m\n",
    "        s (list[int]): s[j] represents the size of item j, for j = 1..n\n",
    "        D (list[list[int]]): (n+1)x(n+1) matrix, with D[i][j] representing the distance from\n",
    "                             distribution point i to distribution point j\n",
    "                    \n",
    "    \"\"\"\n",
    "    ## VARIABLES\n",
    "\n",
    "    # a for assignments\n",
    "    a = [[Bool(f\"a_{i}_{j}\") for j in range(n)] for i in range(m)]\n",
    "    # a_ij = 1 indicates that courier i takes object j\n",
    "    # O(m * n) vars\n",
    "\n",
    "    # r for routes\n",
    "    r = [[[Bool(f\"r_{j}_{k}_{i}\") for k in range(n+1)] for j in range(n+1)] for i in range(m)]  \n",
    "    # r_kji = 1 indicates that courier i moves from delivery point j to delivery point k in his route\n",
    "    # n+1 delivery points because considering Origin point as well, representes as n+1-th row and column, for each courier i\n",
    "    # O(m * n^2) vars\n",
    "\n",
    "    solver = Solver()\n",
    "\n",
    "    ## CONSTRAINTS\n",
    "    # Conversions:\n",
    "    digits = find_max_digits(s, l)\n",
    "    s_bin = [int_to_bin(s_j, digits) for s_j in s]\n",
    "    l_bin = [int_to_bin(l_i, digits) for l_i in l]\n",
    "\n",
    "\n",
    "    # Constraint 1: every object is assigned to one and only one courier\n",
    "    for j in range(n):\n",
    "        solver.add(exactly_one_seq([a[i][j] for i in range(m)], f\"assignment_{j}\"))\n",
    "    \n",
    "    # Constraint 2: every courier can't exceed its load capacity\n",
    "    for i in range(m):\n",
    "        solver.add(LinearInteger_bin(a[i], s_bin, l_bin[i], f\"load_capacity_courier_{i}\"))\n",
    "\n",
    "    # Constraint 3: every courier has at least 1 item to deliver (implicit constraint, because n >= m and distance is quasimetric (from discussion forum))\n",
    "    # TODO: check if it actually speeds up execution\n",
    "    for i in range(m):\n",
    "        solver.add(at_least_one_seq(a[i]))\n",
    "\n",
    "    #TODO: better to use \"clauses\" list than doing so many solver.add below? Or call entirely a function maybe\n",
    "\n",
    "    # Constraint 4: routes\n",
    "    # last row and last column represent the Origin point\n",
    "    z = [[[Bool(f\"reachable_{k}_from_{j}_courier_{i}\") for k in range(n+1)] for j in range(n+1)] for i in range(m)] #TODO: move down, just for debugging\n",
    "\n",
    "    for i in range(m):\n",
    "        # Constraint 4.1: diagonal is full of zeros, i.e. can't leave from j to go to j\n",
    "        solver.add(And([Not(r[i][j][j]) for j in range(n+1)]))\n",
    "\n",
    "        # Constraint 4.2: row j has a 1 iff courier i delivers object j\n",
    "        # rows\n",
    "        for j in range(n):\n",
    "            solver.add(Implies(a[i][j], exactly_one_seq(r[i][j], f\"courier_{i}_leaves_{j}\")))  # If a_ij then exactly_one(r_ij)\n",
    "            solver.add(Implies(Not(a[i][j]), all_false(r[i][j])))   # else all_false(r_ij)\n",
    "        solver.add(exactly_one_seq(r[i][n], f\"courier_{i}_leaves_origin\"))    # exactly_one in origin point row === courier i leaves from origin\n",
    "\n",
    "        # Constraint 4.3: column j has a 1 iff courier i delivers object j\n",
    "        # columns\n",
    "        for k in range(n):\n",
    "            solver.add(Implies(a[i][k], exactly_one_seq([r[i][j][k] for j in range(n+1)], f\"courier_{i}_reaches_{k}\")))  # If a_ij then exactly_one(r_i,:,k)\n",
    "            solver.add(Implies(Not(a[i][k]), all_false([r[i][j][k] for j in range(n+1)])))   # else all_false(r_i,:,k) \n",
    "            # TODO imply false just for the one that weren't alredy counted in the rows (Edo: \"Cos?\")\n",
    "        solver.add(exactly_one_seq([r[i][j][n] for j in range(n+1)], f\"courier_{i}_returns_to_origin\"))         # exactly_one in origin point column === courier i returns to origin\n",
    "     \n",
    "        # Constraint 4.4: HAMILTONIAN CYCLE\n",
    "        # solver.add(Implies(all_false([r[i][j][k] for j in range(n+1)]), Not(z[k])))   #TODO: aggiungere perchè giusto, useless o implicit? Stessa domanda di sotto\n",
    "\n",
    "        # Edo idea:\n",
    "        # TODO: is this optimizable?? Look online for encoding of Hamiltonian cycles (n.b. NOT solutions to the general HCP, Hamiltonian Cycle Problem)\n",
    "        for j in range(n+1):\n",
    "            for k in range(n+1):\n",
    "                if k == j:\n",
    "                    solver.add(Not(z[i][k][k])) # Diagonal has to be zero: we say that cannot reach a node from itself\n",
    "                # If j->k is in route, then it's also reachable k from j \n",
    "                solver.add(Implies(r[i][j][k], z[i][j][k])) # TODO: this is a useless constraint or an implicit (=> useful) one? Check performance without\n",
    "\n",
    "                # If we can say that k it's reachable from j, it means that either \n",
    "                # (i): j->k is in the route\n",
    "                # or (ii): exists (Or) a node h such that h is reachable from j in route and h->k is in route\n",
    "                solver.add(Implies(z[i][j][k], Or(r[i][j][k], Or([And(z[i][j][h], r[i][h][k]) for h in range(n+1)]))))  \n",
    "        # Goal: want that from Origin (row n) we can reach all the delivery points that courier i has to do (i.e. a[i])\n",
    "        solver.add(equal(a[i], z[i][n][:-1], n))\n",
    "\n",
    "        # Scaio idea:\n",
    "        # for k in range(n):\n",
    "        #     solver.add(Not(all_false([r[i][j][h] for j in range(n, k, -1) for h in range(k+1)])))\n",
    "        \n",
    "        \n",
    "\n",
    "    # Optimization search\n",
    "\n",
    "    # Binary representation of the distance travelled by courier i\n",
    "    dist_digits = 41 # TODO\n",
    "    dist = [[Bool(f\"dist_bin_{i}_{k}\") for k in range(dist_digits)] for i in range(m)]\n",
    "    # N.B. could either (1) find an upper bound to the objective value and use it immediately as a constraint (more information immediately, \n",
    "    # but is this allowed? can I use any algo to do so?)\n",
    "    # or (2) run the model with no bound on the objective function the first time, then use the first value found as the initial bound\n",
    "    # Question: can I do (1) and find a bound that is usually better than the bound found at (2)? If so, this would mean more info + better bound from the start!!\n",
    "\n",
    "    \n",
    "    ### TODO: finish implementing this\n",
    "    # final_model = None\n",
    "    # while solver.check() == 'sat':\n",
    "    #     model = solver.model()\n",
    "    #     obj_value = obj_function(model, D, r)\n",
    "    #     obj_value_bin = int_to_bin(obj_value)\n",
    "    #     solver.add(AllLess_bin(r.flatten(), D.flatten(), obj_value_bin)) # TODO: this time, LInearInteger called inside AllLess must be <, not <= !!! Pass it a parameter to use leq or (to implement) lt (less than)\n",
    "    ### then remove this below \n",
    "    print(solver.check())\n",
    "    final_model = solver.model()\n",
    "    ### up to this point\n",
    "    # TODO: re-do thing above again but for BINARY_SEARCH, not LINEAR_SEARCH, then add parameter to the input of the model to choose between which one to use\n",
    "\n",
    "    if final_model is None:\n",
    "        return \"UNSAT\"\n",
    "    \n",
    "    ### Add by Scaio\n",
    "\n",
    "    # print(max_dist(final_model, r, a, D, m, n))\n",
    "    R = tensor(final_model, r)\n",
    "    display_matrices(R, 'r')\n",
    "    print(f\"The tensor contains all hamiltonian cycles: {check_all_hamiltonian(R)}\")\n",
    "    \n",
    "    ###\n",
    "    return interest_variables(final_model, a)   \n"
   ]
  },
  {
   "attachments": {},
   "cell_type": "markdown",
   "metadata": {},
   "source": [
    "### Testing Model 1"
   ]
  },
  {
   "cell_type": "code",
   "execution_count": 69,
   "metadata": {},
   "outputs": [
    {
     "name": "stdout",
     "output_type": "stream",
     "text": [
      "sat\n",
      "r_0 matrix:\n",
      "[False, True, False, False]\n",
      "[False, False, False, True]\n",
      "[True, False, False, False]\n",
      "[False, False, True, False]\n",
      "\n",
      "The tensor contains all hamiltonian cycles: True\n",
      "Courier 0: items [0, 1, 2]\n"
     ]
    }
   ],
   "source": [
    "m = 1\n",
    "n = 3\n",
    "l = [15]\n",
    "s = [3, 2, 4]\n",
    "D = [[0, 3, 3, 2],\n",
    "     [3, 0, 4, 3],\n",
    "     [3, 4, 0, 3],\n",
    "     [2, 3, 3, 0]]\n",
    "\n",
    "displayMCP(multiple_couriers_planning_1(m, n, l, s, D))"
   ]
  },
  {
   "cell_type": "code",
   "execution_count": 70,
   "metadata": {},
   "outputs": [
    {
     "name": "stdout",
     "output_type": "stream",
     "text": [
      "sat\n",
      "r_0 matrix:\n",
      "[False, False, False, False, False, False, False, False]\n",
      "[False, False, False, False, False, False, False, False]\n",
      "[False, False, False, False, True, False, False, False]\n",
      "[False, False, False, False, False, False, False, False]\n",
      "[False, False, False, False, False, False, False, True]\n",
      "[False, False, False, False, False, False, False, False]\n",
      "[False, False, True, False, False, False, False, False]\n",
      "[False, False, False, False, False, False, True, False]\n",
      "\n",
      "r_1 matrix:\n",
      "[False, False, False, False, False, False, False, False]\n",
      "[False, False, False, True, False, False, False, False]\n",
      "[False, False, False, False, False, False, False, False]\n",
      "[False, False, False, False, False, False, False, True]\n",
      "[False, False, False, False, False, False, False, False]\n",
      "[False, False, False, False, False, False, False, False]\n",
      "[False, False, False, False, False, False, False, False]\n",
      "[False, True, False, False, False, False, False, False]\n",
      "\n",
      "r_2 matrix:\n",
      "[False, False, False, False, False, True, False, False]\n",
      "[False, False, False, False, False, False, False, False]\n",
      "[False, False, False, False, False, False, False, False]\n",
      "[False, False, False, False, False, False, False, False]\n",
      "[False, False, False, False, False, False, False, False]\n",
      "[False, False, False, False, False, False, False, True]\n",
      "[False, False, False, False, False, False, False, False]\n",
      "[True, False, False, False, False, False, False, False]\n",
      "\n",
      "The tensor contains all hamiltonian cycles: True\n",
      "Courier 0: items [2, 4, 6]\n",
      "Courier 1: items [1, 3]\n",
      "Courier 2: items [0, 5]\n"
     ]
    }
   ],
   "source": [
    "m = 3\n",
    "n = 7\n",
    "l = [15, 10, 7]\n",
    "s = [3, 2, 6, 8, 5, 4, 4]\n",
    "D = [[0, 3, 3, 6, 5, 6, 6, 2],\n",
    "     [3, 0, 4, 3, 4, 7, 7, 3],\n",
    "     [3, 4, 0, 7, 6, 3, 5, 3],\n",
    "     [6, 3, 7, 0, 3, 6, 6, 4],\n",
    "     [5, 4, 6, 3, 0, 3, 3, 3],\n",
    "     [6, 7, 3, 6, 3, 0, 2, 4],\n",
    "     [6, 7, 5, 6, 3, 2, 0, 4],\n",
    "     [2, 3, 3, 4, 3, 4, 4, 0]]\n",
    "\n",
    "displayMCP(multiple_couriers_planning_1(m, n, l, s, D))"
   ]
  },
  {
   "cell_type": "code",
   "execution_count": 71,
   "metadata": {},
   "outputs": [
    {
     "name": "stdout",
     "output_type": "stream",
     "text": [
      "sat\n",
      "r_0 matrix:\n",
      "[False, True, False, False]\n",
      "[False, False, False, True]\n",
      "[True, False, False, False]\n",
      "[False, False, True, False]\n",
      "\n",
      "The tensor contains all hamiltonian cycles: True\n",
      "Courier 0: items [0, 1, 2]\n"
     ]
    }
   ],
   "source": [
    "m = 1\n",
    "n = 3\n",
    "l = [15]\n",
    "s = [3, 2, 4]\n",
    "D = [[0, 1, 1, 1],\n",
    "     [1, 0, 1, 1],\n",
    "     [1, 1, 0, 1],\n",
    "     [1, 1, 1, 0]]\n",
    "\n",
    "displayMCP(multiple_couriers_planning_1(m, n, l, s, D))"
   ]
  },
  {
   "cell_type": "code",
   "execution_count": 53,
   "metadata": {},
   "outputs": [
    {
     "name": "stdout",
     "output_type": "stream",
     "text": [
      "[(3, 0), (2, 0), (1, 0)]\n",
      "[(3, 0), (3, 1), (2, 0), (2, 1)]\n",
      "[(3, 0), (3, 1), (3, 2)]\n"
     ]
    }
   ],
   "source": [
    "for k in range(3):\n",
    "    print([(j, h) for j in range(n, k, -1) for h in range(k+1)])"
   ]
  },
  {
   "cell_type": "code",
   "execution_count": null,
   "metadata": {},
   "outputs": [],
   "source": []
  }
 ],
 "metadata": {
  "kernelspec": {
   "display_name": "base",
   "language": "python",
   "name": "python3"
  },
  "language_info": {
   "codemirror_mode": {
    "name": "ipython",
    "version": 3
   },
   "file_extension": ".py",
   "mimetype": "text/x-python",
   "name": "python",
   "nbconvert_exporter": "python",
   "pygments_lexer": "ipython3",
   "version": "3.7.9"
  },
  "orig_nbformat": 4
 },
 "nbformat": 4,
 "nbformat_minor": 2
}
