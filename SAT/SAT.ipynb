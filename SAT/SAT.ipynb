{
 "cells": [
  {
   "cell_type": "code",
   "execution_count": 3,
   "metadata": {},
   "outputs": [],
   "source": [
    "from z3 import *\n",
    "import math"
   ]
  },
  {
   "attachments": {},
   "cell_type": "markdown",
   "metadata": {},
   "source": [
    "## Utils"
   ]
  },
  {
   "attachments": {},
   "cell_type": "markdown",
   "metadata": {},
   "source": [
    "### At most/least one & exactly one"
   ]
  },
  {
   "cell_type": "code",
   "execution_count": 4,
   "metadata": {},
   "outputs": [],
   "source": [
    "def at_least_one_seq(bool_vars):\n",
    "    return Or(bool_vars)\n",
    "\n",
    "def at_most_one_seq(x, name):\n",
    "    # bool_vars renamed to x for simplicity\n",
    "    n = len(x)\n",
    "    s = [Bool(f\"s_{i}_{name}\") for i in range(n-1)]     # \"name\" is used in order to create a\n",
    "                                                        # unique set of variables s for each constraint\n",
    "                                                        # of the kind at_most_one_seq, so that they do not overlap \n",
    "                                                        # for different constraints!\n",
    "                                                        # N.B. len(s) = n-1 != n = len (x)\n",
    "    clauses = []\n",
    "    clauses.append(Or(Not(x[0]), s[0]))                 # x[0] -> s[0] (s[i] modeled as: s[i] is true if the SUM UP TO index i IS 1!) i.e. x_1 -> s_1 in math notation\n",
    "    for i in range(1, n-1):\n",
    "        clauses.append(Or(Not(x[i]), s[i]))             # these two clauses model (x[i] v s[i-1]) -> s[i]\n",
    "        clauses.append(Or(Not(s[i-1]), s[i]))\n",
    "        clauses.append(Or(Not(s[i-1]), Not(x[i])))      # this one models s[i-1] -> not x[i]\n",
    "    clauses.append(Or(Not(s[-1]), Not(x[-1])))          # s[n-2] -> not x[n-1]  i.e. s_(n-1) -> s_n in the mathematical notation (1-based)\n",
    "    return And(clauses)\n",
    "\n",
    "def exactly_one_seq(bool_vars, name):\n",
    "    return And(at_least_one_seq(bool_vars), at_most_one_seq(bool_vars, name))"
   ]
  },
  {
   "cell_type": "code",
   "execution_count": 5,
   "metadata": {},
   "outputs": [],
   "source": [
    "def find_max_digits(s, l): # TODO Idea: optimize number of digits depending on cases\n",
    "    return math.ceil(math.log2(max(sum(s), max(l))))"
   ]
  },
  {
   "cell_type": "code",
   "execution_count": 25,
   "metadata": {},
   "outputs": [],
   "source": [
    "def int_to_bin(x, digits=5):  # TODO read: #https://ericpony.github.io/z3py-tutorial/guide-examples.htm\n",
    "    x_bin = [(x%(2**(i+1)) // 2**i)==1 for i in range(digits-1,-1,-1)]\n",
    "    return x_bin"
   ]
  },
  {
   "cell_type": "code",
   "execution_count": 43,
   "metadata": {},
   "outputs": [
    {
     "name": "stdout",
     "output_type": "stream",
     "text": [
      "sat\n"
     ]
    }
   ],
   "source": [
    "def sum(a_bin, b_bin, digits, d_bin):\n",
    "    #slide SAT-I\n",
    "    c = [Bool(f\"c_{k}\") for k in range(digits+1)]\n",
    "    c[0] = False\n",
    "    c[-1] = False\n",
    "\n",
    "    clauses = []\n",
    "    for k in range(digits-1,-1,-1):\n",
    "        # clauses.append((a_bin[k] == b_bin[k]) == (c[k+1] == d_bin[k]))    #TODO: check if it is faster\n",
    "        clauses.append(d_bin[k] == Or(And(a_bin[k], b_bin[k], c[k+1]), And(a_bin[k], Not(b_bin[k]), Not(c[k+1])), \n",
    "                                   And(Not(a_bin[k]), b_bin[k], Not(c[k+1])), And(Not(a_bin[k]), Not(b_bin[k]), c[k+1])))\n",
    "        clauses.append(c[k] == Or(And(a_bin[k],b_bin[k]), And(a_bin[k],c[k+1]), And(b_bin[k],c[k+1])))\n",
    "\n",
    "    return And(clauses)\n",
    "\n",
    "s = Solver()\n",
    "s.add(sum(int_to_bin(11), int_to_bin(8), 5, int_to_bin(19)))\n",
    "print(s.check())"
   ]
  },
  {
   "cell_type": "code",
   "execution_count": 44,
   "metadata": {},
   "outputs": [
    {
     "name": "stdout",
     "output_type": "stream",
     "text": [
      "1 + 1 = 1 --> unsat\n",
      "1 + 1 = 2 --> sat\n",
      "1 + 1 = 3 --> unsat\n",
      "1 + 1 = 4 --> unsat\n",
      "1 + 1 = 5 --> unsat\n",
      "1 + 1 = 6 --> unsat\n",
      "1 + 1 = 7 --> unsat\n",
      "1 + 2 = 1 --> unsat\n",
      "1 + 2 = 2 --> unsat\n",
      "1 + 2 = 3 --> sat\n",
      "1 + 2 = 4 --> unsat\n",
      "1 + 2 = 5 --> unsat\n",
      "1 + 2 = 6 --> unsat\n",
      "1 + 2 = 7 --> unsat\n",
      "1 + 3 = 1 --> unsat\n",
      "1 + 3 = 2 --> unsat\n",
      "1 + 3 = 3 --> unsat\n",
      "1 + 3 = 4 --> sat\n",
      "1 + 3 = 5 --> unsat\n",
      "1 + 3 = 6 --> unsat\n",
      "1 + 3 = 7 --> unsat\n",
      "2 + 1 = 1 --> unsat\n",
      "2 + 1 = 2 --> unsat\n",
      "2 + 1 = 3 --> sat\n",
      "2 + 1 = 4 --> unsat\n",
      "2 + 1 = 5 --> unsat\n",
      "2 + 1 = 6 --> unsat\n",
      "2 + 1 = 7 --> unsat\n",
      "2 + 2 = 1 --> unsat\n",
      "2 + 2 = 2 --> unsat\n",
      "2 + 2 = 3 --> unsat\n",
      "2 + 2 = 4 --> sat\n",
      "2 + 2 = 5 --> unsat\n",
      "2 + 2 = 6 --> unsat\n",
      "2 + 2 = 7 --> unsat\n",
      "2 + 3 = 1 --> unsat\n",
      "2 + 3 = 2 --> unsat\n",
      "2 + 3 = 3 --> unsat\n",
      "2 + 3 = 4 --> unsat\n",
      "2 + 3 = 5 --> sat\n",
      "2 + 3 = 6 --> unsat\n",
      "2 + 3 = 7 --> unsat\n",
      "3 + 1 = 1 --> unsat\n",
      "3 + 1 = 2 --> unsat\n",
      "3 + 1 = 3 --> unsat\n",
      "3 + 1 = 4 --> sat\n",
      "3 + 1 = 5 --> unsat\n",
      "3 + 1 = 6 --> unsat\n",
      "3 + 1 = 7 --> unsat\n",
      "3 + 2 = 1 --> unsat\n",
      "3 + 2 = 2 --> unsat\n",
      "3 + 2 = 3 --> unsat\n",
      "3 + 2 = 4 --> unsat\n",
      "3 + 2 = 5 --> sat\n",
      "3 + 2 = 6 --> unsat\n",
      "3 + 2 = 7 --> unsat\n",
      "3 + 3 = 1 --> unsat\n",
      "3 + 3 = 2 --> unsat\n",
      "3 + 3 = 3 --> unsat\n",
      "3 + 3 = 4 --> unsat\n",
      "3 + 3 = 5 --> unsat\n",
      "3 + 3 = 6 --> sat\n",
      "3 + 3 = 7 --> unsat\n"
     ]
    }
   ],
   "source": [
    "for i in range(1, 4):\n",
    "    for j in range(1, 4):\n",
    "        for k in range(1, 8):\n",
    "            s = Solver()\n",
    "            s.add(sum(int_to_bin(i), int_to_bin(j), 5, int_to_bin(k)))\n",
    "            print(i, '+', j, '=', k, '-->', s.check())"
   ]
  },
  {
   "cell_type": "code",
   "execution_count": null,
   "metadata": {},
   "outputs": [],
   "source": [
    "def LinearInteger(c_i, s, l_i, i, n, digits):\n",
    "    \"\"\" c_i: a[i,:] in model 1\n",
    "        s: list of sizes of objects\n",
    "        l_i: load of courier i\n",
    "        i: index of courier (doing the job of name)\n",
    "        digits: number of digits required to represent l_i and numbers in s\n",
    "    \"\"\"\n",
    "    # matrix containing temporary results of sum\n",
    "    d = [[Bool(f\"d_{j}_{k}_{i}\") for k in range(digits)] for j in range(n)]\n",
    "\n",
    "    clauses = []\n",
    "    # TODO: aggiungere \"if c_i[j] = 1, fai la roba sotto, altrienti d_j == d_j-1\"\n",
    "    for j in range(n):\n",
    "        clauses.append(sum(d[j-1, :], s[j], d[j, :])) # temporary result d_j-1 + s_j = (imposed) d_j\n",
    "\n",
    "    # TODO: aggiungere a clause che d_n <= l_i\n",
    "    return And(clauses)\n",
    "\n"
   ]
  },
  {
   "attachments": {},
   "cell_type": "markdown",
   "metadata": {},
   "source": [
    "## Model 1"
   ]
  },
  {
   "cell_type": "code",
   "execution_count": 5,
   "metadata": {},
   "outputs": [],
   "source": [
    "def multiple_couriers_planning_1(m, n, l, s, D):\n",
    "    ## VARIABLES\n",
    "\n",
    "    # a for assignments\n",
    "    a = [[Bool(f\"a_{i}_{j}\") for j in range(n)] for i in range(m)]\n",
    "    # a_ij = 1 indicates that courier i takes object j\n",
    "    # O(m * n) vars\n",
    "\n",
    "    # r for routes\n",
    "    r = [[[Bool(f\"r_{k}_{j}_{i}\") for k in range(n)] for j in range(n)] for i in range(m)]  \n",
    "    # r_kji = 1 indicates that courier i delivers object j as its k-th delivery\n",
    "    # O(m * n^2) vars\n",
    "\n",
    "    solver = Solver()\n",
    "\n",
    "\n",
    "    ## CONSTRAINTS\n",
    "    # Constraint 1: every object is assigned to one and only one courier\n",
    "    for j in range(n):\n",
    "        solver.add(exactly_one_seq([a[i][j] for i in range(m)], f\"assignment_{j}\"))\n",
    "    \n",
    "    # Interesting question: see discussion forum (distance func. property)\n",
    "    # -> answer: the distance is quasimetric => we can add implicit constraint \"every courier has at least 1 package to deliver\"\n",
    "    # TODO: check if it actually speeds up execution\n",
    "    \n",
    "\n"
   ]
  },
  {
   "cell_type": "markdown",
   "metadata": {},
   "source": []
  }
 ],
 "metadata": {
  "kernelspec": {
   "display_name": "base",
   "language": "python",
   "name": "python3"
  },
  "language_info": {
   "codemirror_mode": {
    "name": "ipython",
    "version": 3
   },
   "file_extension": ".py",
   "mimetype": "text/x-python",
   "name": "python",
   "nbconvert_exporter": "python",
   "pygments_lexer": "ipython3",
   "version": "3.7.9"
  },
  "orig_nbformat": 4
 },
 "nbformat": 4,
 "nbformat_minor": 2
}
