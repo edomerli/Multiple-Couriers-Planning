{
 "cells": [
  {
   "cell_type": "code",
   "execution_count": 1,
   "metadata": {},
   "outputs": [],
   "source": [
    "from z3 import *\n",
    "import math"
   ]
  },
  {
   "attachments": {},
   "cell_type": "markdown",
   "metadata": {},
   "source": [
    "## Utils"
   ]
  },
  {
   "attachments": {},
   "cell_type": "markdown",
   "metadata": {},
   "source": [
    "#### At most/least one & exactly one"
   ]
  },
  {
   "cell_type": "code",
   "execution_count": 2,
   "metadata": {},
   "outputs": [],
   "source": [
    "def at_least_one_seq(bool_vars):\n",
    "    return Or(bool_vars)\n",
    "\n",
    "def at_most_one_seq(x, name):\n",
    "    # bool_vars renamed to x for simplicity\n",
    "    n = len(x)\n",
    "    s = [Bool(f\"s_{i}_{name}\") for i in range(n-1)]     # \"name\" is used in order to create a\n",
    "                                                        # unique set of variables s for each constraint\n",
    "                                                        # of the kind at_most_one_seq, so that they do not overlap \n",
    "                                                        # for different constraints!\n",
    "                                                        # N.B. len(s) = n-1 != n = len (x)\n",
    "    clauses = []\n",
    "    clauses.append(Or(Not(x[0]), s[0]))                 # x[0] -> s[0] (s[i] modeled as: s[i] is true if the SUM UP TO index i IS 1!) i.e. x_1 -> s_1 in math notation\n",
    "    for i in range(1, n-1):\n",
    "        clauses.append(Or(Not(x[i]), s[i]))             # these two clauses model (x[i] v s[i-1]) -> s[i]\n",
    "        clauses.append(Or(Not(s[i-1]), s[i]))\n",
    "        clauses.append(Or(Not(s[i-1]), Not(x[i])))      # this one models s[i-1] -> not x[i]\n",
    "    clauses.append(Or(Not(s[-1]), Not(x[-1])))          # s[n-2] -> not x[n-1]  i.e. s_(n-1) -> s_n in the mathematical notation (1-based)\n",
    "    return And(clauses)\n",
    "\n",
    "def exactly_one_seq(bool_vars, name):\n",
    "    return And(at_least_one_seq(bool_vars), at_most_one_seq(bool_vars, name))"
   ]
  },
  {
   "attachments": {},
   "cell_type": "markdown",
   "metadata": {},
   "source": [
    "#### Conversion from int to bin"
   ]
  },
  {
   "cell_type": "code",
   "execution_count": 3,
   "metadata": {},
   "outputs": [],
   "source": [
    "def find_max_digits(s, l): # TODO Idea: optimize number of digits depending on cases\n",
    "    return math.ceil(math.log2(max(sum(s), max(l))))"
   ]
  },
  {
   "cell_type": "code",
   "execution_count": 4,
   "metadata": {},
   "outputs": [],
   "source": [
    "def int_to_bin(x, digits=5):  # TODO read: #https://ericpony.github.io/z3py-tutorial/guide-examples.htm\n",
    "    x_bin = [(x%(2**(i+1)) // 2**i)==1 for i in range(digits-1,-1,-1)]\n",
    "    return x_bin"
   ]
  },
  {
   "attachments": {},
   "cell_type": "markdown",
   "metadata": {},
   "source": [
    "#### Operations on binary numbers"
   ]
  },
  {
   "cell_type": "code",
   "execution_count": 5,
   "metadata": {},
   "outputs": [],
   "source": [
    "### ATTEMPT by Scaio function equal\n",
    "### CHANGED by Edo function leq\n",
    "def equal(v, u, digits):\n",
    "    return And([v[k]==u[k] for k in range(digits)])\n",
    "\n",
    "def all_false(v, digits):\n",
    "    return And([v[k]==False for k in range(digits)])\n",
    "\n",
    "def leq(v, u, digits): #v<=u\n",
    "    if digits == 1:\n",
    "        return Or(v[0]==u[0], And(v[0]==False, u[0]==True))\n",
    "    else:\n",
    "        return Or(And(v[0]==False, u[0]==True), \n",
    "                  And(v[0]==u[0], leq(v[1:], u[1:], digits-1)))\n",
    "    \n"
   ]
  },
  {
   "cell_type": "code",
   "execution_count": 6,
   "metadata": {},
   "outputs": [
    {
     "name": "stdout",
     "output_type": "stream",
     "text": [
      "sat\n",
      "unsat\n",
      "sat and expected sat\n",
      "unsat and expected unsat\n"
     ]
    }
   ],
   "source": [
    "v = [False, False]\n",
    "u = [False, True]\n",
    "\n",
    "s = Solver()\n",
    "s.add(all_false(v, 2))\n",
    "print( s.check())\n",
    "\n",
    "s = Solver()\n",
    "s.add(equal(v, u, 2))\n",
    "print( s.check())\n",
    "\n",
    "s = Solver()\n",
    "s.add(leq(v, u, 2))\n",
    "print(s.check(), 'and expected sat')\n",
    "\n",
    "s = Solver()\n",
    "s.add(leq(u, v, 2))\n",
    "print(s.check(), 'and expected unsat')"
   ]
  },
  {
   "cell_type": "code",
   "execution_count": 7,
   "metadata": {},
   "outputs": [],
   "source": [
    "def sum_bin(a_bin, b_bin, d_bin, digits):\n",
    "    \"\"\"Encodes into a SAT formula the binary sum {a_bin + b_bin = d_bin}, each number having {digits} num of bits\n",
    "\n",
    "    Args:\n",
    "        a_bin (list[bool]): binary representation of a\n",
    "        b_bin (list[bool]): binary representation of b\n",
    "        d_bin (list[bool]): binary representation of d\n",
    "        digits (int): number of bits of each number \n",
    "\n",
    "    Returns:\n",
    "        (Z3-expression): formula representing SAT encoding of binary sum\n",
    "    \"\"\"\n",
    "\n",
    "    #slide SAT-I\n",
    "    c = [Bool(f\"c_{k}\") for k in range(digits+1)]\n",
    "    c[0] = False\n",
    "    c[-1] = False\n",
    "\n",
    "    clauses = []\n",
    "    for k in range(digits-1,-1,-1):\n",
    "        # clauses.append((a_bin[k] == b_bin[k]) == (c[k+1] == d_bin[k]))    #TODO: check if it is faster\n",
    "        clauses.append(d_bin[k] == Or(And(a_bin[k], b_bin[k], c[k+1]), And(a_bin[k], Not(b_bin[k]), Not(c[k+1])), \n",
    "                                   And(Not(a_bin[k]), b_bin[k], Not(c[k+1])), And(Not(a_bin[k]), Not(b_bin[k]), c[k+1])))\n",
    "        clauses.append(c[k] == Or(And(a_bin[k],b_bin[k]), And(a_bin[k],c[k+1]), And(b_bin[k],c[k+1])))\n",
    "\n",
    "    return And(clauses)"
   ]
  },
  {
   "cell_type": "code",
   "execution_count": 8,
   "metadata": {},
   "outputs": [
    {
     "name": "stdout",
     "output_type": "stream",
     "text": [
      "sat\n"
     ]
    }
   ],
   "source": [
    "s = Solver()\n",
    "s.add(sum_bin(int_to_bin(11), int_to_bin(8), int_to_bin(19), 5))\n",
    "print(s.check())"
   ]
  },
  {
   "cell_type": "code",
   "execution_count": 9,
   "metadata": {},
   "outputs": [
    {
     "name": "stdout",
     "output_type": "stream",
     "text": [
      "1 + 1 = 1 --> unsat\n",
      "1 + 1 = 2 --> sat\n",
      "1 + 1 = 3 --> unsat\n",
      "1 + 1 = 4 --> unsat\n",
      "1 + 1 = 5 --> unsat\n",
      "1 + 1 = 6 --> unsat\n",
      "1 + 1 = 7 --> unsat\n",
      "1 + 2 = 1 --> unsat\n",
      "1 + 2 = 2 --> unsat\n",
      "1 + 2 = 3 --> sat\n",
      "1 + 2 = 4 --> unsat\n",
      "1 + 2 = 5 --> unsat\n",
      "1 + 2 = 6 --> unsat\n",
      "1 + 2 = 7 --> unsat\n",
      "1 + 3 = 1 --> unsat\n",
      "1 + 3 = 2 --> unsat\n",
      "1 + 3 = 3 --> unsat\n",
      "1 + 3 = 4 --> sat\n",
      "1 + 3 = 5 --> unsat\n",
      "1 + 3 = 6 --> unsat\n",
      "1 + 3 = 7 --> unsat\n",
      "2 + 1 = 1 --> unsat\n",
      "2 + 1 = 2 --> unsat\n",
      "2 + 1 = 3 --> sat\n",
      "2 + 1 = 4 --> unsat\n",
      "2 + 1 = 5 --> unsat\n",
      "2 + 1 = 6 --> unsat\n",
      "2 + 1 = 7 --> unsat\n",
      "2 + 2 = 1 --> unsat\n",
      "2 + 2 = 2 --> unsat\n",
      "2 + 2 = 3 --> unsat\n",
      "2 + 2 = 4 --> sat\n",
      "2 + 2 = 5 --> unsat\n",
      "2 + 2 = 6 --> unsat\n",
      "2 + 2 = 7 --> unsat\n",
      "2 + 3 = 1 --> unsat\n",
      "2 + 3 = 2 --> unsat\n",
      "2 + 3 = 3 --> unsat\n",
      "2 + 3 = 4 --> unsat\n",
      "2 + 3 = 5 --> sat\n",
      "2 + 3 = 6 --> unsat\n",
      "2 + 3 = 7 --> unsat\n",
      "3 + 1 = 1 --> unsat\n",
      "3 + 1 = 2 --> unsat\n",
      "3 + 1 = 3 --> unsat\n",
      "3 + 1 = 4 --> sat\n",
      "3 + 1 = 5 --> unsat\n",
      "3 + 1 = 6 --> unsat\n",
      "3 + 1 = 7 --> unsat\n",
      "3 + 2 = 1 --> unsat\n",
      "3 + 2 = 2 --> unsat\n",
      "3 + 2 = 3 --> unsat\n",
      "3 + 2 = 4 --> unsat\n",
      "3 + 2 = 5 --> sat\n",
      "3 + 2 = 6 --> unsat\n",
      "3 + 2 = 7 --> unsat\n",
      "3 + 3 = 1 --> unsat\n",
      "3 + 3 = 2 --> unsat\n",
      "3 + 3 = 3 --> unsat\n",
      "3 + 3 = 4 --> unsat\n",
      "3 + 3 = 5 --> unsat\n",
      "3 + 3 = 6 --> sat\n",
      "3 + 3 = 7 --> unsat\n"
     ]
    }
   ],
   "source": [
    "for i in range(1, 4):\n",
    "    for j in range(1, 4):\n",
    "        for k in range(1, 8):\n",
    "            s = Solver()\n",
    "            s.add(sum_bin(int_to_bin(i), int_to_bin(j), int_to_bin(k), 5))\n",
    "            print(i, '+', j, '=', k, '-->', s.check())\n",
    "            "
   ]
  },
  {
   "cell_type": "code",
   "execution_count": 10,
   "metadata": {},
   "outputs": [],
   "source": [
    "def LinearInteger(c_i, s, l_i, i, n, digits):\n",
    "    \"\"\"Encodes into a SAT formula the linear constraint {sum_over_j(s_i[j] | c_i[j] == True) <= l_i}\n",
    "\n",
    "    Args:\n",
    "        c_i (list[bool]): a[i,:] in model 1\n",
    "        s (list[list[bool]]): list of sizes of objects, each one represented as list[bool] i.e. binary number\n",
    "        l_i (int): load of courier i        #TODO: change to l_i_bin and convert in calling function?\n",
    "        i (int): index of courier (doing the job of name)\n",
    "        n (int): number of objects\n",
    "        digits (int): number of digits required to represent l_i and numbers in s\n",
    "\n",
    "    Returns:\n",
    "        formula (Z3-expression): And of clauses representing SAT encoding of Linear Integer constraint\n",
    "    \"\"\"\n",
    "    # matrix containing temporary results of sum_bin\n",
    "    d = [[Bool(f\"d_{j}_{k}_{i}\") for k in range(digits)] for j in range(n)]\n",
    "\n",
    "    clauses = []\n",
    "    # TODO: aggiungere \"if c_i[j] = 1, fai la roba sotto, altrienti d_j == d_j-1\"\n",
    "    for j in range(n):\n",
    "        clauses.append(sum_bin(d[j-1], s[j], d[j], digits)) # temporary result d_j-1 + s_j = (imposed) d_j\n",
    "\n",
    "\n",
    "\n",
    "    # ### ATTEMPT by Scaio for the if condition above\n",
    "\n",
    "    # # with function equal  \n",
    "    # # row 0\n",
    "    # clauses.append( Or(And(c_i[0], equal(int_to_bin(s[0]), d[0, :], digits)),       # change with Implies()\n",
    "    #                    And(Not(c_i[0]), all_false(d[0, :], digits))) )\n",
    "    # # row j>1\n",
    "    # for j in range(1,n):\n",
    "    #     clauses.append( Or(And(c_i[j],sum_bin(d[j-1, :], s[j], d[j, :])),                # c_j True and SUM True  \n",
    "    #                        And(Not(c_i[j]), equal(d[j, :], d[j-1, :], digits))) )    # c_j False and d_j==d_j-1\n",
    "\n",
    "    # # TODO: aggiungere a clause che d_n <= l_i\n",
    "    # # I suppose to enter l_i as integer (is it the best idea to optimize the program?)\n",
    "    # l_i_bin = int_to_bin(l_i, digits)\n",
    "    # clauses.append(leq(d[j-1, :], l_i_bin, digits)) \n",
    "\n",
    "    # ### END\n",
    "\n",
    "\n",
    "    ### Taken from Scaio attempt above and CHANGED by Edo\n",
    "    # row 0\n",
    "    clauses.append( And(Implies(c_i[0], equal(d[0], s[0], digits)),      # If c_i[0] == 1 then d_0 == s_0\n",
    "                        Implies(Not(c_i[0]), all_false(d[0], digits))))              # elif c_i[0] == 0 then d_0 == [0..0]\n",
    "    \n",
    "    # row j>1\n",
    "    for j in range(1,n):\n",
    "        clauses.append( And(Implies(c_i[j], sum_bin(d[j-1], s[j], d[j], digits)),               # If c_j == 1 then d_j == d_j-1 + s_j \n",
    "                            Implies(Not(c_i[j]), equal(d[j], d[j-1], digits))))     # elif c_j == 0 then d_j == d_j-1\n",
    "\n",
    "    # TODO: aggiungere a clause che d_n <= l_i\n",
    "    # I suppose to enter l_i as integer (is it the best idea to optimize the program?)\n",
    "    l_i_bin = int_to_bin(l_i, digits)\n",
    "    clauses.append(leq(d[n-1], l_i_bin, digits)) \n",
    "    # TODO: does it make any sense to check d_j <= l_i_bin forall j or better to just do it for d_n?\n",
    "    # TODO: have to check for overflows in num. digits?\n",
    "\n",
    "    ### END\n",
    "\n",
    "    formula = And(clauses)\n",
    "    return formula\n",
    "\n"
   ]
  },
  {
   "attachments": {},
   "cell_type": "markdown",
   "metadata": {},
   "source": [
    "## Model 1"
   ]
  },
  {
   "cell_type": "code",
   "execution_count": 13,
   "metadata": {},
   "outputs": [],
   "source": [
    "def multiple_couriers_planning_1(m, n, l, s, D):\n",
    "    \"\"\"_summary_\n",
    "\n",
    "    Args:\n",
    "        m (_type_): _description_\n",
    "        n (_type_): _description_\n",
    "        l (_type_): _description_\n",
    "        s (_type_): _description_\n",
    "        D (_type_): _description_\n",
    "    \"\"\"\n",
    "    ## VARIABLES\n",
    "\n",
    "    # a for assignments\n",
    "    a = [[Bool(f\"a_{i}_{j}\") for j in range(n)] for i in range(m)]\n",
    "    # a_ij = 1 indicates that courier i takes object j\n",
    "    # O(m * n) vars\n",
    "\n",
    "    # r for routes\n",
    "    r = [[[Bool(f\"r_{k}_{j}_{i}\") for k in range(n)] for j in range(n)] for i in range(m)]  \n",
    "    # r_kji = 1 indicates that courier i delivers object j as its k-th delivery\n",
    "    # O(m * n^2) vars\n",
    "\n",
    "    solver = Solver()\n",
    "\n",
    "\n",
    "    ## CONSTRAINTS\n",
    "    # Constraint 1: every object is assigned to one and only one courier\n",
    "    for j in range(n):\n",
    "        solver.add(exactly_one_seq([a[i][j] for i in range(m)], f\"assignment_{j}\"))\n",
    "    \n",
    "    # Constraint 2: every courier can't exceed its load capacity\n",
    "    digits = find_max_digits(s, l)\n",
    "    s_bin = [int_to_bin(s_j, digits) for s_j in s]\n",
    "    for i in range(m):\n",
    "        solver.add(LinearInteger(a[i], s_bin, l[i], i, n, digits))\n",
    "\n",
    "    # Interesting question: see discussion forum (distance func. property)\n",
    "    # -> answer: the distance is quasimetric => we can add implicit constraint \"every courier has at least 1 package to deliver\"\n",
    "    # TODO: check if it actually speeds up execution\n",
    "\n",
    "    print(solver.check())\n"
   ]
  },
  {
   "attachments": {},
   "cell_type": "markdown",
   "metadata": {},
   "source": [
    "### Testing Model 1"
   ]
  },
  {
   "cell_type": "code",
   "execution_count": 14,
   "metadata": {},
   "outputs": [
    {
     "name": "stdout",
     "output_type": "stream",
     "text": [
      "unsat\n"
     ]
    }
   ],
   "source": [
    "m = 3\n",
    "n = 7\n",
    "l = [15, 10, 7]\n",
    "s = [3, 2, 6, 8, 5, 4, 4]\n",
    "D = [[0, 3, 3, 6, 5, 6, 6, 2],\n",
    "     [3, 0, 4, 3, 4, 7, 7, 3],\n",
    "     [3, 4, 0, 7, 6, 3, 5, 3],\n",
    "     [6, 3, 7, 0, 3, 6, 6, 4],\n",
    "     [5, 4, 6, 3, 0, 3, 3, 3],\n",
    "     [6, 7, 3, 6, 3, 0, 2, 4],\n",
    "     [6, 7, 5, 6, 3, 2, 0, 4],\n",
    "     [2, 3, 3, 4, 3, 4, 4, 0]]\n",
    "\n",
    "multiple_couriers_planning_1(m, n, l, s, D)"
   ]
  },
  {
   "cell_type": "code",
   "execution_count": null,
   "metadata": {},
   "outputs": [],
   "source": []
  },
  {
   "cell_type": "code",
   "execution_count": null,
   "metadata": {},
   "outputs": [],
   "source": []
  }
 ],
 "metadata": {
  "kernelspec": {
   "display_name": "base",
   "language": "python",
   "name": "python3"
  },
  "language_info": {
   "codemirror_mode": {
    "name": "ipython",
    "version": 3
   },
   "file_extension": ".py",
   "mimetype": "text/x-python",
   "name": "python",
   "nbconvert_exporter": "python",
   "pygments_lexer": "ipython3",
   "version": "3.7.9"
  },
  "orig_nbformat": 4
 },
 "nbformat": 4,
 "nbformat_minor": 2
}
