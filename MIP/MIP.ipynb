{
 "cells": [
  {
   "cell_type": "code",
   "execution_count": 81,
   "metadata": {},
   "outputs": [],
   "source": [
    "# # install AMPL\n",
    "# # Install Python API for AMPL:\n",
    "# $ python -m pip install amplpy --upgrade\n",
    "\n",
    "# # Install solver modules:\n",
    "# $ python -m amplpy.modules install highs\n",
    "\n",
    "# # Activate your AMPL CE license: ............................. (paste id license)\n",
    "# $ python -m amplpy.modules activate"
   ]
  },
  {
   "cell_type": "code",
   "execution_count": 85,
   "metadata": {},
   "outputs": [
    {
     "name": "stdout",
     "output_type": "stream",
     "text": [
      "Licensed to AMPL Community Edition License for <lorenzo.scaioli0@gmail.com>.\n"
     ]
    }
   ],
   "source": [
    "from amplpy import AMPL, tools\n",
    "# ampl = tools.ampl_notebook(\n",
    "#     modules=[\"highs\", \"cbc\", \"gurobi\"], # modules to install\n",
    "#     license_uuid=\"d3af9008-221f-4220-a118-625786b1fe84\")\n",
    "\n"
   ]
  },
  {
   "attachments": {},
   "cell_type": "markdown",
   "metadata": {},
   "source": [
    "# Model"
   ]
  },
  {
   "cell_type": "code",
   "execution_count": 87,
   "metadata": {},
   "outputs": [],
   "source": [
    "model = r\"\"\"\n",
    "    reset;\n",
    "\n",
    "    ## VARIABLES\n",
    "    param m;\n",
    "    param n;\n",
    "    set COURIERS := {1..m}; # couriers with load capacities\n",
    "    set ITEMS := {1..n}; # items with sizes\n",
    "    set D_SIZE := {1..n+1};\n",
    "\n",
    "    param capacity {COURIERS} > 0 integer;\n",
    "    param size {ITEMS} > 0 integer;\n",
    "    param D {D_SIZE, D_SIZE} >= 0 integer; # matrix of distances\n",
    "    param dist_upper_bound := sum {i in D_SIZE} max {j in D_SIZE} D[i,j];\n",
    "    param obj_lower_bound := max {i in ITEMS} (D[n+1,i]+D[i,n+1]);\n",
    "\n",
    "\n",
    "    var X {COURIERS, D_SIZE, D_SIZE} binary; # tensor defining the route of each courier\n",
    "    var T {ITEMS} >= 1, <= n integer; # array that encode the visit sequence\n",
    "    # var items_per_courier {COURIERS} integer;\n",
    "    # TODO: if implicit constraint, add lower_bound also on tot_dist\n",
    "    var tot_dist {COURIERS} >= 0, <= dist_upper_bound integer; # distance traveled by each courier\n",
    "    var Obj >= obj_lower_bound, <= dist_upper_bound integer;\n",
    "\n",
    "    ## OBJECTIVE FUNCTION\n",
    "    minimize Obj_function: Obj;\n",
    "\n",
    "    ## CONSTRAINTS\n",
    "    ## constraints on Obj\n",
    "    s.t. def_Obj {i in COURIERS}:\n",
    "        Obj >= tot_dist[i];\n",
    "     \n",
    "    ## constraints to create X \n",
    "    s.t. X_1 {k in ITEMS}:\n",
    "        sum {i in COURIERS, j in D_SIZE} X[i,j,k] = 1; # each X[:,:,k] matrix has exaclty 1 item, just one i courier arrive at k-th point\n",
    "    s.t. X_2 {j in ITEMS}:\n",
    "        sum {i in COURIERS, k in D_SIZE} X[i,j,k] = 1; # each X[:,j,:] matrix has exaclty 1 item, just one i courier depart from j-th point\n",
    "    s.t. X_3 {i in COURIERS}:\n",
    "        sum {j in ITEMS} X[i,j,n+1] = 1; # each X[i,:,n+1] column has exactly 1 item, the courier i return at the origin\n",
    "    s.t. X_4 {i in COURIERS}:\n",
    "        sum {k in ITEMS} X[i,n+1,k] = 1; # each X[i,n+1,:] row has exactly 1 item, the courier i start from the origin\n",
    "    s.t. X_5 {i in COURIERS, j in ITEMS}:\n",
    "        X[i,j,j] = 0; # the diagonal of each X[i,:,:] is zero, the i courier must move from a point to another\n",
    "    s.t. implied_constraint {i in COURIERS}: # TODO\n",
    "        X[i,n+1,n+1] = 0; # each courier transoprts at least one item\n",
    "    s.t. X_6 {i in COURIERS, j in ITEMS}:\n",
    "        sum {k in D_SIZE} X[i,k,j] = sum {k in D_SIZE} X[i,j,k]; # for each i courier the sum of each column A[i,:,j] is equal to the sum of each row A[i,j,:]\n",
    "                                                                 # if the i courier enter arrive at the j-th point it has to depart from it\n",
    "    s.t. load_capacity {i in COURIERS}:\n",
    "        sum {j in D_SIZE, k in ITEMS} X[i,j,k]*size[k] <= capacity[i]; # each courier respects its own load capacity \n",
    "\n",
    "    ## constraints to create T\n",
    "    s.t. T_1 {i in COURIERS, j in ITEMS, k in ITEMS}:\n",
    "        T[j]-T[k] >= 1 - 2*n * (1-X[i,k,j]); # if the X[i,j,k] is 1 (vehicle i leaves node k and enter the node j) then T[j]-T[i]=1, the point j-th is visited exactly after the k-th point\n",
    "                                             # value of big-M = 2*n\n",
    "    s.t. T_2 {i in COURIERS, j in ITEMS, k in ITEMS}:\n",
    "        T[j]-T[k] <= 1 + 2*n * (1-X[i,k,j]);\n",
    "    s.t. T_3 {i in COURIERS, k in ITEMS}:\n",
    "        T[k] <= 1 + 2*n * (1-X[i,n+1,k]); # for every courier the first element delivered, call it k, gets T[k]=1\n",
    "          \n",
    "    ## constraint to create tot_dist[i]\n",
    "    s.t. D_1 {i in COURIERS}:\n",
    "        sum {j in D_SIZE, k in D_SIZE} X[i,j,k] * D[j,k] = tot_dist[i]; # calculate distance traveled by each courier\n",
    "          \n",
    "    ## symmetry breaking with ordered capacity \n",
    "    s.t. symmetry_breaking {i in {1..m-1}}:\n",
    "        sum {j in ITEMS, k in ITEMS} X[i,j,k]*size[k] >= sum {j in ITEMS, k in ITEMS} X[i+1,j,k]*size[k]; # the load of each courier is ordered as the capacity\n",
    "          \n",
    "\"\"\"\n"
   ]
  },
  {
   "attachments": {},
   "cell_type": "markdown",
   "metadata": {},
   "source": [
    "## Solve with COIN-BC"
   ]
  },
  {
   "cell_type": "code",
   "execution_count": 88,
   "metadata": {},
   "outputs": [],
   "source": [
    "# # Specify the solver to use (e.g., HiGHS)\n",
    "# ampl.option[\"solver\"] = \"cbc\"\n",
    "# # Solve\n",
    "# ampl.solve()\n",
    "# # Stop if the model was not solved\n",
    "# assert ampl.get_value(\"solve_result\") == \"solved\"\n",
    "# # Get objective entity by AMPL name\n",
    "# totalcost = ampl.get_objective('Obj_function')\n",
    "# # Print it\n",
    "# print(\"Objective is:\", int(round(totalcost.value(),0)))"
   ]
  },
  {
   "attachments": {},
   "cell_type": "markdown",
   "metadata": {},
   "source": [
    "# Testing"
   ]
  },
  {
   "cell_type": "code",
   "execution_count": 92,
   "metadata": {},
   "outputs": [],
   "source": [
    "def run_model(model, m, n, l, s, D, **kwargs):\n",
    "    # TODO: if symmetry breaking:\n",
    "    l.sort(reverse=True)\n",
    "\n",
    "    ampl = AMPL()\n",
    "    ampl.eval(model)\n",
    "\n",
    "    ampl.param[\"m\"] = m\n",
    "    ampl.param[\"n\"] = n\n",
    "\n",
    "    ampl.param[\"capacity\"] = l\n",
    "    ampl.param[\"size\"] = s\n",
    "    ampl.param[\"D\"] = D\n",
    "\n",
    "    # Specify the solver to use (e.g., HiGHS)\n",
    "    ampl.option[\"solver\"] = 'gurobi'\n",
    "    ampl.option[\"gurobi_options\"] = \"timelim=300\"  # TODO: deve diventare f'{solver}_options\n",
    "    # Solve\n",
    "    ampl.solve()\n",
    "    # Stop if the model was not solved\n",
    "    solve_result = ampl.get_value(\"solve_result\")\n",
    "\n",
    "    # Get objective entity by AMPL name\n",
    "    obj_value = int(round(ampl.get_objective('Obj_function').value(), 0))\n",
    "\n",
    "    if solve_result == \"solved\":\n",
    "        print(f\"SAT -- obj_value: {obj_value}\")\n",
    "    elif solve_result == \"limit\" and obj_value == 0:\n",
    "        print('Timeout, no solution found') \n",
    "    else:\n",
    "        print(f\"Timeout but found solution with obj_value:{obj_value}\")\n",
    "    "
   ]
  },
  {
   "cell_type": "code",
   "execution_count": 93,
   "metadata": {},
   "outputs": [],
   "source": [
    "import os\n",
    "import sys\n",
    "import numpy as np\n",
    "from amplpy import AMPL\n",
    "\n",
    "def run_model_on_instance(MCP_model, file, **kwargs):\n",
    "    \"\"\"Read the instance from .dat file and run the given MCP model on it\n",
    "\n",
    "    Args:\n",
    "        MCP_model (function): function executing the SAT-encoding and solving of the given instance\n",
    "        file (str): path of the .dat file representing the instance\n",
    "    \"\"\"\n",
    "    with open(file) as f:\n",
    "        m = int(next(f))\n",
    "        n = int(next(f))\n",
    "        l = [int(e) for e in next(f).split()]\n",
    "        s = [int(e) for e in next(f).split()]\n",
    "        D = np.ravel(np.genfromtxt(f, dtype=int)).tolist()\n",
    "\n",
    "    return run_model(MCP_model, m, n, l, s, D, **kwargs)"
   ]
  },
  {
   "cell_type": "code",
   "execution_count": 94,
   "metadata": {},
   "outputs": [
    {
     "name": "stdout",
     "output_type": "stream",
     "text": [
      "Gurobi 10.0.1: lim:time=300\n",
      "Gurobi 10.0.1: optimal solution; objective 167\n",
      "139310 simplex iterations\n",
      "2780 branching nodes\n",
      "SAT -- obj_value: 167\n"
     ]
    }
   ],
   "source": [
    "run_model_on_instance(model, '../instances/inst07.dat') "
   ]
  },
  {
   "cell_type": "code",
   "execution_count": null,
   "metadata": {},
   "outputs": [],
   "source": []
  }
 ],
 "metadata": {
  "kernelspec": {
   "display_name": "Python 3",
   "language": "python",
   "name": "python3"
  },
  "language_info": {
   "codemirror_mode": {
    "name": "ipython",
    "version": 3
   },
   "file_extension": ".py",
   "mimetype": "text/x-python",
   "name": "python",
   "nbconvert_exporter": "python",
   "pygments_lexer": "ipython3",
   "version": "3.7.9"
  },
  "orig_nbformat": 4
 },
 "nbformat": 4,
 "nbformat_minor": 2
}
