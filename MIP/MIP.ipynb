{
 "cells": [
  {
   "cell_type": "code",
   "execution_count": 20,
   "metadata": {},
   "outputs": [],
   "source": [
    "# # install AMPL\n",
    "# # Install Python API for AMPL:\n",
    "# $ python -m pip install amplpy --upgrade\n",
    "\n",
    "# # Install solver modules:\n",
    "# $ python -m amplpy.modules install highs\n",
    "\n",
    "# # Activate your AMPL CE license: ............................. (paste id license)\n",
    "# $ python -m amplpy.modules activate"
   ]
  },
  {
   "cell_type": "code",
   "execution_count": 52,
   "metadata": {},
   "outputs": [],
   "source": [
    "from amplpy import AMPL, tools\n",
    "# ampl = tools.ampl_notebook(\n",
    "#     modules=[\"highs\", \"cbc\"], # modules to install\n",
    "#     license_uuid=\"d3af9008-221f-4220-a118-625786b1fe84\")\n",
    "\n",
    "ampl = AMPL() # instantiate AMPL object"
   ]
  },
  {
   "attachments": {},
   "cell_type": "markdown",
   "metadata": {},
   "source": [
    "Instance 01"
   ]
  },
  {
   "cell_type": "code",
   "execution_count": 118,
   "metadata": {},
   "outputs": [],
   "source": [
    "# obj = 14\n",
    "# [| 13 | 14 |]\n",
    "\n",
    "m = 2\n",
    "l = [15, 10]\n",
    "\n",
    "n = 6\n",
    "s = [3, 2, 6, 5, 4, 4]\n",
    "\n",
    "D = [ \n",
    "\t0, 3, 4, 5, 6, 6, 2,\n",
    "\t3, 0, 1, 4, 5, 7, 3,\n",
    "\t4, 1, 0, 5, 6, 6, 4,\n",
    "\t4, 4, 5, 0, 3, 3, 2,\n",
    "\t6, 7, 8, 3, 0, 2, 4,\n",
    "\t6, 7, 8, 3, 2, 0, 4,\n",
    "\t2, 3, 4, 3, 4, 4, 0,\n",
    "]"
   ]
  },
  {
   "attachments": {},
   "cell_type": "markdown",
   "metadata": {},
   "source": [
    "# Model"
   ]
  },
  {
   "cell_type": "code",
   "execution_count": 124,
   "metadata": {},
   "outputs": [
    {
     "name": "stdout",
     "output_type": "stream",
     "text": [
      "Warning:\n",
      "\tline 26 offset 712\n",
      "\tdouble inequality must be ... <= ... <= ... or ... >= ... >= ...\n",
      "\tcontext:  0 < sum {j in ITEMS} (if A[i,j]==1 then size[j] else 0) <=  >>> load[i]; <<<  # each courier respects its own load capacity\n",
      "\t\n",
      "\tPlease report any bugs at: https://github.com/ampl/amplpy\n",
      "\t\n",
      "\tFor support/feedback go to https://discuss.ampl.com or e-mail <support@ampl.com>\n",
      "\t\n"
     ]
    }
   ],
   "source": [
    "ampl.eval(r\"\"\"\n",
    "    reset;\n",
    "\n",
    "    ## VARIABLES\n",
    "    param m;\n",
    "    param n;\n",
    "    set COURIERS := {1..m}; # couriers with loads\n",
    "    set ITEMS := {1..n}; # items with sizes\n",
    "    set D_SIZE := {1..n+1};\n",
    "\n",
    "    param load {COURIERS} > 0 integer;\n",
    "    param size {ITEMS} > 0 integer;\n",
    "    param D {D_SIZE, D_SIZE} >= 0 integer; # matrix of distances\n",
    "\n",
    "\n",
    "    var A {COURIERS, ITEMS} binary;\n",
    "    var O {COURIERS, ITEMS} >= 0 integer;\n",
    "    var tot_dist {COURIERS} >= 0 integer; # distance traveled by each courier\n",
    "\n",
    "    ## OBJECTIVE FUNCTION\n",
    "    minimize Obj_function:  max {i in COURIERS} tot_dist[i];\n",
    "\n",
    "    ## CONSTRAINTS\n",
    "    # constraints to create A\n",
    "    s.t. A_1 {i in COURIERS}:\n",
    "        0 < sum {j in ITEMS} (if A[i,j]==1 then size[j] else 0) <= load[i]; # each courier respects its own load capacity\n",
    "                                                                            # each courier transports at least one item\n",
    "    s.t. A_2 {j in ITEMS}:\n",
    "        sum {i in COURIERS} A[i,j] == 1; # each item is transported by one courier\n",
    "    \n",
    "    # simmetry breaking\n",
    "    # TODO\n",
    "\n",
    "    # # constraints to create O\n",
    "    # s.t. O_1 {i in COURIERS, j in ITEMS}:\n",
    "    #     (if A[i, j] == 0 then O[i, j] == 0) &&\n",
    "    #     (if A[i, j] > 0 then O[i, j] > 0); # each value is in line with those in A\n",
    "    # #s.t. O_2 {i in COURIERS}:\n",
    "\n",
    "\"\"\")\n"
   ]
  },
  {
   "attachments": {},
   "cell_type": "markdown",
   "metadata": {},
   "source": [
    "## Load the data"
   ]
  },
  {
   "cell_type": "code",
   "execution_count": 125,
   "metadata": {},
   "outputs": [],
   "source": [
    "ampl.param[\"m\"] = m\n",
    "ampl.param[\"n\"] = n\n",
    "\n",
    "ampl.param[\"load\"] = l\n",
    "ampl.param[\"size\"] = s\n",
    "ampl.param[\"D\"] = D"
   ]
  },
  {
   "attachments": {},
   "cell_type": "markdown",
   "metadata": {},
   "source": [
    "## Solve with HiGHS"
   ]
  },
  {
   "cell_type": "code",
   "execution_count": 126,
   "metadata": {},
   "outputs": [
    {
     "name": "stdout",
     "output_type": "stream",
     "text": [
      "HiGHS 1.5.1: HiGHS 1.5.1: optimal solution; objective 0\n",
      "0 simplex iterations\n",
      "0 branching nodes\n",
      "Objective is: 0.0\n"
     ]
    }
   ],
   "source": [
    "# Specify the solver to use (e.g., HiGHS)\n",
    "ampl.option[\"solver\"] = \"highs\"\n",
    "# Solve\n",
    "ampl.solve()\n",
    "# Stop if the model was not solved\n",
    "assert ampl.get_value(\"solve_result\") == \"solved\"\n",
    "# Get objective entity by AMPL name\n",
    "totalcost = ampl.get_objective('Obj_function')\n",
    "# Print it\n",
    "print(\"Objective is:\", totalcost.value())"
   ]
  },
  {
   "attachments": {},
   "cell_type": "markdown",
   "metadata": {},
   "source": [
    "## Solve with COIN-BC"
   ]
  },
  {
   "cell_type": "code",
   "execution_count": 127,
   "metadata": {},
   "outputs": [
    {
     "name": "stdout",
     "output_type": "stream",
     "text": [
      "cbc 2.10.7cbc 2.10.7: optimal solution; objective 0\n",
      "0 simplex iterations\n",
      "Objective is: 0.0\n"
     ]
    }
   ],
   "source": [
    "# Specify the solver to use (e.g., HiGHS)\n",
    "ampl.option[\"solver\"] = \"cbc\"\n",
    "# Solve\n",
    "ampl.solve()\n",
    "# Stop if the model was not solved\n",
    "assert ampl.get_value(\"solve_result\") == \"solved\"\n",
    "# Get objective entity by AMPL name\n",
    "totalcost = ampl.get_objective('Obj_function')\n",
    "# Print it\n",
    "print(\"Objective is:\", totalcost.value())"
   ]
  }
 ],
 "metadata": {
  "kernelspec": {
   "display_name": "Python 3",
   "language": "python",
   "name": "python3"
  },
  "language_info": {
   "codemirror_mode": {
    "name": "ipython",
    "version": 3
   },
   "file_extension": ".py",
   "mimetype": "text/x-python",
   "name": "python",
   "nbconvert_exporter": "python",
   "pygments_lexer": "ipython3",
   "version": "3.10.11"
  },
  "orig_nbformat": 4
 },
 "nbformat": 4,
 "nbformat_minor": 2
}
